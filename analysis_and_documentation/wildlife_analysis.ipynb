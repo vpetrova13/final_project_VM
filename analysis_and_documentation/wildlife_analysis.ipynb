{
 "cells": [
  {
   "cell_type": "code",
   "execution_count": 1,
   "id": "permanent-kazakhstan",
   "metadata": {},
   "outputs": [],
   "source": [
    "import pandas as pd\n",
    "import matplotlib.pyplot as plt\n",
    "import numpy as np\n",
    "import seaborn as sns\n",
    "%matplotlib inline"
   ]
  },
  {
   "cell_type": "code",
   "execution_count": 62,
   "id": "binding-beaver",
   "metadata": {},
   "outputs": [],
   "source": [
    "wildlife = pd.read_csv('../clean_data/wildlife_clean.csv', parse_dates=['CALL_SAVED_TIME'])"
   ]
  },
  {
   "cell_type": "code",
   "execution_count": 63,
   "id": "accessible-scott",
   "metadata": {},
   "outputs": [
    {
     "data": {
      "text/plain": [
       "(152743, 6)"
      ]
     },
     "execution_count": 63,
     "metadata": {},
     "output_type": "execute_result"
    }
   ],
   "source": [
    "wildlife.shape"
   ]
  },
  {
   "cell_type": "code",
   "execution_count": 64,
   "id": "suffering-patrol",
   "metadata": {},
   "outputs": [
    {
     "name": "stdout",
     "output_type": "stream",
     "text": [
      "<class 'pandas.core.frame.DataFrame'>\n",
      "RangeIndex: 152743 entries, 0 to 152742\n",
      "Data columns (total 6 columns):\n",
      " #   Column           Non-Null Count   Dtype         \n",
      "---  ------           --------------   -----         \n",
      " 0   Unnamed: 0       152743 non-null  int64         \n",
      " 1   CALL_REGION      152743 non-null  object        \n",
      " 2   CALL_SAVED_TIME  152672 non-null  datetime64[ns]\n",
      " 3   CA_ANIMAL_TYPE   152743 non-null  object        \n",
      " 4   reason_for_call  152743 non-null  object        \n",
      " 5   type_of_calls    152743 non-null  object        \n",
      "dtypes: datetime64[ns](1), int64(1), object(4)\n",
      "memory usage: 7.0+ MB\n"
     ]
    }
   ],
   "source": [
    "wildlife.info()"
   ]
  },
  {
   "cell_type": "code",
   "execution_count": 5,
   "id": "equivalent-vehicle",
   "metadata": {},
   "outputs": [
    {
     "data": {
      "text/html": [
       "<div>\n",
       "<style scoped>\n",
       "    .dataframe tbody tr th:only-of-type {\n",
       "        vertical-align: middle;\n",
       "    }\n",
       "\n",
       "    .dataframe tbody tr th {\n",
       "        vertical-align: top;\n",
       "    }\n",
       "\n",
       "    .dataframe thead th {\n",
       "        text-align: right;\n",
       "    }\n",
       "</style>\n",
       "<table border=\"1\" class=\"dataframe\">\n",
       "  <thead>\n",
       "    <tr style=\"text-align: right;\">\n",
       "      <th></th>\n",
       "      <th>Unnamed: 0</th>\n",
       "      <th>CALL_REGION</th>\n",
       "      <th>CALL_SAVED_TIME</th>\n",
       "      <th>CA_ANIMAL_TYPE</th>\n",
       "      <th>reason_for_call</th>\n",
       "      <th>type_of_calls</th>\n",
       "    </tr>\n",
       "  </thead>\n",
       "  <tbody>\n",
       "    <tr>\n",
       "      <th>0</th>\n",
       "      <td>0</td>\n",
       "      <td>Central</td>\n",
       "      <td>2020-01-01</td>\n",
       "      <td>Deer</td>\n",
       "      <td>rescue</td>\n",
       "      <td>report_calls</td>\n",
       "    </tr>\n",
       "    <tr>\n",
       "      <th>1</th>\n",
       "      <td>1</td>\n",
       "      <td>Central</td>\n",
       "      <td>2020-01-01</td>\n",
       "      <td>Deer</td>\n",
       "      <td>rescue</td>\n",
       "      <td>report_calls</td>\n",
       "    </tr>\n",
       "    <tr>\n",
       "      <th>2</th>\n",
       "      <td>2</td>\n",
       "      <td>Central</td>\n",
       "      <td>2020-01-01</td>\n",
       "      <td>Deer</td>\n",
       "      <td>rescue</td>\n",
       "      <td>report_calls</td>\n",
       "    </tr>\n",
       "    <tr>\n",
       "      <th>3</th>\n",
       "      <td>3</td>\n",
       "      <td>Aberdeen</td>\n",
       "      <td>2020-01-01</td>\n",
       "      <td>Wild Bird</td>\n",
       "      <td>injury</td>\n",
       "      <td>report_calls</td>\n",
       "    </tr>\n",
       "    <tr>\n",
       "      <th>4</th>\n",
       "      <td>4</td>\n",
       "      <td>Central</td>\n",
       "      <td>2020-01-01</td>\n",
       "      <td>Gull</td>\n",
       "      <td>injury</td>\n",
       "      <td>report_calls</td>\n",
       "    </tr>\n",
       "    <tr>\n",
       "      <th>...</th>\n",
       "      <td>...</td>\n",
       "      <td>...</td>\n",
       "      <td>...</td>\n",
       "      <td>...</td>\n",
       "      <td>...</td>\n",
       "      <td>...</td>\n",
       "    </tr>\n",
       "    <tr>\n",
       "      <th>152738</th>\n",
       "      <td>153369</td>\n",
       "      <td>Central</td>\n",
       "      <td>2018-12-31</td>\n",
       "      <td>Swan</td>\n",
       "      <td>injury</td>\n",
       "      <td>report_calls</td>\n",
       "    </tr>\n",
       "    <tr>\n",
       "      <th>152739</th>\n",
       "      <td>153370</td>\n",
       "      <td>Glasgow</td>\n",
       "      <td>2018-12-31</td>\n",
       "      <td>Wild Bird</td>\n",
       "      <td>injury</td>\n",
       "      <td>report_calls</td>\n",
       "    </tr>\n",
       "    <tr>\n",
       "      <th>152740</th>\n",
       "      <td>153371</td>\n",
       "      <td>Aberdeen</td>\n",
       "      <td>2018-12-31</td>\n",
       "      <td>Wild Bird</td>\n",
       "      <td>injury</td>\n",
       "      <td>report_calls</td>\n",
       "    </tr>\n",
       "    <tr>\n",
       "      <th>152741</th>\n",
       "      <td>153372</td>\n",
       "      <td>Glasgow</td>\n",
       "      <td>2018-12-31</td>\n",
       "      <td>Wild Bird</td>\n",
       "      <td>injury</td>\n",
       "      <td>report_calls</td>\n",
       "    </tr>\n",
       "    <tr>\n",
       "      <th>152742</th>\n",
       "      <td>153373</td>\n",
       "      <td>Edinburgh</td>\n",
       "      <td>2018-12-31</td>\n",
       "      <td>Wild Bird</td>\n",
       "      <td>injury</td>\n",
       "      <td>report_calls</td>\n",
       "    </tr>\n",
       "  </tbody>\n",
       "</table>\n",
       "<p>152743 rows × 6 columns</p>\n",
       "</div>"
      ],
      "text/plain": [
       "        Unnamed: 0 CALL_REGION CALL_SAVED_TIME CA_ANIMAL_TYPE reason_for_call  \\\n",
       "0                0     Central      2020-01-01           Deer          rescue   \n",
       "1                1     Central      2020-01-01           Deer          rescue   \n",
       "2                2     Central      2020-01-01           Deer          rescue   \n",
       "3                3    Aberdeen      2020-01-01      Wild Bird          injury   \n",
       "4                4     Central      2020-01-01           Gull          injury   \n",
       "...            ...         ...             ...            ...             ...   \n",
       "152738      153369     Central      2018-12-31           Swan          injury   \n",
       "152739      153370     Glasgow      2018-12-31      Wild Bird          injury   \n",
       "152740      153371    Aberdeen      2018-12-31      Wild Bird          injury   \n",
       "152741      153372     Glasgow      2018-12-31      Wild Bird          injury   \n",
       "152742      153373   Edinburgh      2018-12-31      Wild Bird          injury   \n",
       "\n",
       "       type_of_calls  \n",
       "0       report_calls  \n",
       "1       report_calls  \n",
       "2       report_calls  \n",
       "3       report_calls  \n",
       "4       report_calls  \n",
       "...              ...  \n",
       "152738  report_calls  \n",
       "152739  report_calls  \n",
       "152740  report_calls  \n",
       "152741  report_calls  \n",
       "152742  report_calls  \n",
       "\n",
       "[152743 rows x 6 columns]"
      ]
     },
     "execution_count": 5,
     "metadata": {},
     "output_type": "execute_result"
    }
   ],
   "source": [
    "wildlife"
   ]
  },
  {
   "cell_type": "code",
   "execution_count": 70,
   "id": "minus-definition",
   "metadata": {},
   "outputs": [
    {
     "name": "stdout",
     "output_type": "stream",
     "text": [
      "<class 'pandas.core.frame.DataFrame'>\n",
      "Int64Index: 83661 entries, 3 to 152742\n",
      "Data columns (total 6 columns):\n",
      " #   Column           Non-Null Count  Dtype         \n",
      "---  ------           --------------  -----         \n",
      " 0   Unnamed: 0       83661 non-null  int64         \n",
      " 1   CALL_REGION      83661 non-null  object        \n",
      " 2   CALL_SAVED_TIME  83633 non-null  datetime64[ns]\n",
      " 3   CA_ANIMAL_TYPE   83661 non-null  object        \n",
      " 4   reason_for_call  83661 non-null  object        \n",
      " 5   type_of_calls    83661 non-null  object        \n",
      "dtypes: datetime64[ns](1), int64(1), object(4)\n",
      "memory usage: 4.5+ MB\n"
     ]
    }
   ],
   "source": [
    "wildlife_injuries = wildlife[wildlife['reason_for_call']=='injury'].copy()\n",
    "wildlife_injuries.info()\n",
    "#Client is mostly interested in injuries"
   ]
  },
  {
   "cell_type": "markdown",
   "id": "foreign-decline",
   "metadata": {},
   "source": [
    "## Trend by region"
   ]
  },
  {
   "cell_type": "code",
   "execution_count": 7,
   "id": "competitive-level",
   "metadata": {},
   "outputs": [],
   "source": [
    "df_count = wildlife_injuries.groupby('CALL_REGION').count().sort_values(['reason_for_call'], ascending = False)[['reason_for_call']]"
   ]
  },
  {
   "cell_type": "code",
   "execution_count": 8,
   "id": "connected-cycle",
   "metadata": {},
   "outputs": [],
   "source": [
    "df_count['Region'] = df_count.index"
   ]
  },
  {
   "cell_type": "code",
   "execution_count": 9,
   "id": "gothic-speaker",
   "metadata": {
    "scrolled": true
   },
   "outputs": [
    {
     "data": {
      "text/html": [
       "<div>\n",
       "<style scoped>\n",
       "    .dataframe tbody tr th:only-of-type {\n",
       "        vertical-align: middle;\n",
       "    }\n",
       "\n",
       "    .dataframe tbody tr th {\n",
       "        vertical-align: top;\n",
       "    }\n",
       "\n",
       "    .dataframe thead th {\n",
       "        text-align: right;\n",
       "    }\n",
       "</style>\n",
       "<table border=\"1\" class=\"dataframe\">\n",
       "  <thead>\n",
       "    <tr style=\"text-align: right;\">\n",
       "      <th></th>\n",
       "      <th>reason_for_call</th>\n",
       "      <th>Region</th>\n",
       "    </tr>\n",
       "    <tr>\n",
       "      <th>CALL_REGION</th>\n",
       "      <th></th>\n",
       "      <th></th>\n",
       "    </tr>\n",
       "  </thead>\n",
       "  <tbody>\n",
       "    <tr>\n",
       "      <th>Glasgow</th>\n",
       "      <td>22056</td>\n",
       "      <td>Glasgow</td>\n",
       "    </tr>\n",
       "    <tr>\n",
       "      <th>Central</th>\n",
       "      <td>18826</td>\n",
       "      <td>Central</td>\n",
       "    </tr>\n",
       "    <tr>\n",
       "      <th>Aberdeen</th>\n",
       "      <td>15993</td>\n",
       "      <td>Aberdeen</td>\n",
       "    </tr>\n",
       "    <tr>\n",
       "      <th>Edinburgh</th>\n",
       "      <td>14996</td>\n",
       "      <td>Edinburgh</td>\n",
       "    </tr>\n",
       "    <tr>\n",
       "      <th>Unknown</th>\n",
       "      <td>6117</td>\n",
       "      <td>Unknown</td>\n",
       "    </tr>\n",
       "    <tr>\n",
       "      <th>Inverness</th>\n",
       "      <td>5673</td>\n",
       "      <td>Inverness</td>\n",
       "    </tr>\n",
       "  </tbody>\n",
       "</table>\n",
       "</div>"
      ],
      "text/plain": [
       "             reason_for_call     Region\n",
       "CALL_REGION                            \n",
       "Glasgow                22056    Glasgow\n",
       "Central                18826    Central\n",
       "Aberdeen               15993   Aberdeen\n",
       "Edinburgh              14996  Edinburgh\n",
       "Unknown                 6117    Unknown\n",
       "Inverness               5673  Inverness"
      ]
     },
     "execution_count": 9,
     "metadata": {},
     "output_type": "execute_result"
    }
   ],
   "source": [
    "df_count\n",
    "#there are more injuries in Glasgow reported, due to more population?"
   ]
  },
  {
   "cell_type": "code",
   "execution_count": 10,
   "id": "intended-carrier",
   "metadata": {},
   "outputs": [
    {
     "data": {
      "image/png": "[encoded data removed]",
      "text/plain": [
       "<Figure size 432x288 with 1 Axes>"
      ]
     },
     "metadata": {
      "needs_background": "light"
     },
     "output_type": "display_data"
    }
   ],
   "source": [
    "sns.barplot(x = 'Region',y = 'reason_for_call', data = df_count)\n",
    "plt.xticks(rotation = 45)\n",
    "plt.xlabel(\"Region\", size=15)\n",
    "plt.ylabel(\"Number of injuries\", size=15)\n",
    "plt.title(\"Number of injuries in different areas\", size=18)\n",
    "plt.tight_layout()"
   ]
  },
  {
   "cell_type": "markdown",
   "id": "orange-bibliography",
   "metadata": {},
   "source": [
    "## Trend by year"
   ]
  },
  {
   "cell_type": "code",
   "execution_count": 69,
   "id": "wanted-wisconsin",
   "metadata": {},
   "outputs": [
    {
     "data": {
      "text/html": [
       "<div>\n",
       "<style scoped>\n",
       "    .dataframe tbody tr th:only-of-type {\n",
       "        vertical-align: middle;\n",
       "    }\n",
       "\n",
       "    .dataframe tbody tr th {\n",
       "        vertical-align: top;\n",
       "    }\n",
       "\n",
       "    .dataframe thead th {\n",
       "        text-align: right;\n",
       "    }\n",
       "</style>\n",
       "<table border=\"1\" class=\"dataframe\">\n",
       "  <thead>\n",
       "    <tr style=\"text-align: right;\">\n",
       "      <th></th>\n",
       "      <th>Unnamed: 0</th>\n",
       "      <th>CALL_REGION</th>\n",
       "      <th>CALL_SAVED_TIME</th>\n",
       "      <th>CA_ANIMAL_TYPE</th>\n",
       "      <th>reason_for_call</th>\n",
       "      <th>type_of_calls</th>\n",
       "    </tr>\n",
       "  </thead>\n",
       "  <tbody>\n",
       "    <tr>\n",
       "      <th>3</th>\n",
       "      <td>3</td>\n",
       "      <td>Aberdeen</td>\n",
       "      <td>2020-01-01</td>\n",
       "      <td>Wild Bird</td>\n",
       "      <td>injury</td>\n",
       "      <td>report_calls</td>\n",
       "    </tr>\n",
       "    <tr>\n",
       "      <th>4</th>\n",
       "      <td>4</td>\n",
       "      <td>Central</td>\n",
       "      <td>2020-01-01</td>\n",
       "      <td>Gull</td>\n",
       "      <td>injury</td>\n",
       "      <td>report_calls</td>\n",
       "    </tr>\n",
       "    <tr>\n",
       "      <th>5</th>\n",
       "      <td>5</td>\n",
       "      <td>Edinburgh</td>\n",
       "      <td>2020-01-01</td>\n",
       "      <td>Wild Bird</td>\n",
       "      <td>injury</td>\n",
       "      <td>report_calls</td>\n",
       "    </tr>\n",
       "    <tr>\n",
       "      <th>9</th>\n",
       "      <td>9</td>\n",
       "      <td>Edinburgh</td>\n",
       "      <td>2020-01-01</td>\n",
       "      <td>Wild Bird</td>\n",
       "      <td>injury</td>\n",
       "      <td>report_calls</td>\n",
       "    </tr>\n",
       "    <tr>\n",
       "      <th>10</th>\n",
       "      <td>10</td>\n",
       "      <td>Glasgow</td>\n",
       "      <td>2020-01-01</td>\n",
       "      <td>Fox</td>\n",
       "      <td>injury</td>\n",
       "      <td>report_calls</td>\n",
       "    </tr>\n",
       "    <tr>\n",
       "      <th>...</th>\n",
       "      <td>...</td>\n",
       "      <td>...</td>\n",
       "      <td>...</td>\n",
       "      <td>...</td>\n",
       "      <td>...</td>\n",
       "      <td>...</td>\n",
       "    </tr>\n",
       "    <tr>\n",
       "      <th>152738</th>\n",
       "      <td>153369</td>\n",
       "      <td>Central</td>\n",
       "      <td>2018-12-31</td>\n",
       "      <td>Swan</td>\n",
       "      <td>injury</td>\n",
       "      <td>report_calls</td>\n",
       "    </tr>\n",
       "    <tr>\n",
       "      <th>152739</th>\n",
       "      <td>153370</td>\n",
       "      <td>Glasgow</td>\n",
       "      <td>2018-12-31</td>\n",
       "      <td>Wild Bird</td>\n",
       "      <td>injury</td>\n",
       "      <td>report_calls</td>\n",
       "    </tr>\n",
       "    <tr>\n",
       "      <th>152740</th>\n",
       "      <td>153371</td>\n",
       "      <td>Aberdeen</td>\n",
       "      <td>2018-12-31</td>\n",
       "      <td>Wild Bird</td>\n",
       "      <td>injury</td>\n",
       "      <td>report_calls</td>\n",
       "    </tr>\n",
       "    <tr>\n",
       "      <th>152741</th>\n",
       "      <td>153372</td>\n",
       "      <td>Glasgow</td>\n",
       "      <td>2018-12-31</td>\n",
       "      <td>Wild Bird</td>\n",
       "      <td>injury</td>\n",
       "      <td>report_calls</td>\n",
       "    </tr>\n",
       "    <tr>\n",
       "      <th>152742</th>\n",
       "      <td>153373</td>\n",
       "      <td>Edinburgh</td>\n",
       "      <td>2018-12-31</td>\n",
       "      <td>Wild Bird</td>\n",
       "      <td>injury</td>\n",
       "      <td>report_calls</td>\n",
       "    </tr>\n",
       "  </tbody>\n",
       "</table>\n",
       "<p>83661 rows × 6 columns</p>\n",
       "</div>"
      ],
      "text/plain": [
       "        Unnamed: 0 CALL_REGION CALL_SAVED_TIME CA_ANIMAL_TYPE reason_for_call  \\\n",
       "3                3    Aberdeen      2020-01-01      Wild Bird          injury   \n",
       "4                4     Central      2020-01-01           Gull          injury   \n",
       "5                5   Edinburgh      2020-01-01      Wild Bird          injury   \n",
       "9                9   Edinburgh      2020-01-01      Wild Bird          injury   \n",
       "10              10     Glasgow      2020-01-01            Fox          injury   \n",
       "...            ...         ...             ...            ...             ...   \n",
       "152738      153369     Central      2018-12-31           Swan          injury   \n",
       "152739      153370     Glasgow      2018-12-31      Wild Bird          injury   \n",
       "152740      153371    Aberdeen      2018-12-31      Wild Bird          injury   \n",
       "152741      153372     Glasgow      2018-12-31      Wild Bird          injury   \n",
       "152742      153373   Edinburgh      2018-12-31      Wild Bird          injury   \n",
       "\n",
       "       type_of_calls  \n",
       "3       report_calls  \n",
       "4       report_calls  \n",
       "5       report_calls  \n",
       "9       report_calls  \n",
       "10      report_calls  \n",
       "...              ...  \n",
       "152738  report_calls  \n",
       "152739  report_calls  \n",
       "152740  report_calls  \n",
       "152741  report_calls  \n",
       "152742  report_calls  \n",
       "\n",
       "[83661 rows x 6 columns]"
      ]
     },
     "execution_count": 69,
     "metadata": {},
     "output_type": "execute_result"
    }
   ],
   "source": [
    "wildlife_injuries"
   ]
  },
  {
   "cell_type": "code",
   "execution_count": 79,
   "id": "registered-rebecca",
   "metadata": {},
   "outputs": [
    {
     "data": {
      "text/plain": [
       "MultiIndex([('2018-01-01',  'Aberdeen'),\n",
       "            ('2018-01-01',   'Central'),\n",
       "            ('2018-01-01', 'Edinburgh'),\n",
       "            ('2018-01-01',   'Glasgow'),\n",
       "            ('2018-01-01', 'Inverness'),\n",
       "            ('2018-01-01',   'Unknown'),\n",
       "            ('2018-01-02',  'Aberdeen'),\n",
       "            ('2018-01-02',   'Central'),\n",
       "            ('2018-01-02', 'Edinburgh'),\n",
       "            ('2018-01-02',   'Glasgow'),\n",
       "            ...\n",
       "            ('2020-04-29', 'Edinburgh'),\n",
       "            ('2020-04-29',   'Glasgow'),\n",
       "            ('2020-04-29', 'Inverness'),\n",
       "            ('2020-04-29',   'Unknown'),\n",
       "            ('2020-04-30',  'Aberdeen'),\n",
       "            ('2020-04-30',   'Central'),\n",
       "            ('2020-04-30', 'Edinburgh'),\n",
       "            ('2020-04-30',   'Glasgow'),\n",
       "            ('2020-04-30', 'Inverness'),\n",
       "            ('2020-04-30',   'Unknown')],\n",
       "           names=['CALL_SAVED_TIME', 'CALL_REGION'], length=5074)"
      ]
     },
     "execution_count": 79,
     "metadata": {},
     "output_type": "execute_result"
    }
   ],
   "source": [
    "df_time = wildlife_injuries.groupby(['CALL_SAVED_TIME', 'CALL_REGION']).count()\n",
    "df_time.index"
   ]
  },
  {
   "cell_type": "code",
   "execution_count": 12,
   "id": "duplicate-array",
   "metadata": {},
   "outputs": [
    {
     "data": {
      "image/png": "[encoded data removed]",
      "text/plain": [
       "<Figure size 432x288 with 1 Axes>"
      ]
     },
     "metadata": {
      "needs_background": "light"
     },
     "output_type": "display_data"
    }
   ],
   "source": [
    "sns.lineplot(x = \"CALL_SAVED_TIME\", y = \"reason_for_call\", data = df_time)\n",
    "plt.xticks(np.arange(0, 852, 30),rotation = 90)\n",
    "plt.xlabel(\"Date\", size=15)\n",
    "plt.ylabel(\"Number of injuries\", size=15)\n",
    "plt.title(\"Number of injuries across the last three years\", size=18)\n",
    "plt.tight_layout()"
   ]
  },
  {
   "cell_type": "markdown",
   "id": "appointed-eleven",
   "metadata": {},
   "source": [
    "Looks like there is a trend of increase in injuries at summer time. Possibly because people walk more often and report injuries?"
   ]
  },
  {
   "cell_type": "code",
   "execution_count": 13,
   "id": "assisted-reviewer",
   "metadata": {},
   "outputs": [
    {
     "data": {
      "text/plain": [
       "(0.0, 500.0)"
      ]
     },
     "execution_count": 13,
     "metadata": {},
     "output_type": "execute_result"
    },
    {
     "data": {
      "image/png": "[encoded data removed]",
      "text/plain": [
       "<Figure size 432x288 with 1 Axes>"
      ]
     },
     "metadata": {
      "needs_background": "light"
     },
     "output_type": "display_data"
    }
   ],
   "source": [
    "sns.lineplot(x = \"CALL_SAVED_TIME\", y = \"reason_for_call\", data = df_time)\n",
    "plt.xticks(np.arange(0, 852, 30),rotation = 90)\n",
    "plt.xlabel(\"Date\", size=15)\n",
    "plt.ylabel(\"Number of injuries\", size=15)\n",
    "plt.title(\"Number of injuries across the last three years\", size=18)\n",
    "plt.tight_layout()\n",
    "plt.xlim(0,500)"
   ]
  },
  {
   "cell_type": "markdown",
   "id": "national-scanner",
   "metadata": {},
   "source": [
    "Quite a big spikes of report at around spring time in 2018."
   ]
  },
  {
   "cell_type": "markdown",
   "id": "aggressive-sudan",
   "metadata": {},
   "source": [
    "## By year and region"
   ]
  },
  {
   "cell_type": "code",
   "execution_count": 61,
   "id": "horizontal-northern",
   "metadata": {},
   "outputs": [
    {
     "name": "stdout",
     "output_type": "stream",
     "text": [
      "<class 'pandas.core.frame.DataFrame'>\n",
      "RangeIndex: 152743 entries, 0 to 152742\n",
      "Data columns (total 6 columns):\n",
      " #   Column           Non-Null Count   Dtype \n",
      "---  ------           --------------   ----- \n",
      " 0   Unnamed: 0       152743 non-null  int64 \n",
      " 1   CALL_REGION      152743 non-null  object\n",
      " 2   CALL_SAVED_TIME  152672 non-null  object\n",
      " 3   CA_ANIMAL_TYPE   152743 non-null  object\n",
      " 4   reason_for_call  152743 non-null  object\n",
      " 5   type_of_calls    152743 non-null  object\n",
      "dtypes: int64(1), object(5)\n",
      "memory usage: 7.0+ MB\n"
     ]
    }
   ],
   "source": [
    "wildlife.info()"
   ]
  },
  {
   "cell_type": "code",
   "execution_count": 58,
   "id": "suspected-sheffield",
   "metadata": {},
   "outputs": [
    {
     "ename": "TypeError",
     "evalue": "'<' not supported between instances of 'str' and 'float'",
     "output_type": "error",
     "traceback": [
      "\u001b[0;31m---------------------------------------------------------------------------\u001b[0m",
      "\u001b[0;31mTypeError\u001b[0m                                 Traceback (most recent call last)",
      "\u001b[0;32m<ipython-input-58-f6a246d13478>\u001b[0m in \u001b[0;36m<module>\u001b[0;34m\u001b[0m\n\u001b[0;32m----> 1\u001b[0;31m \u001b[0mdf_time_region\u001b[0m \u001b[0;34m=\u001b[0m \u001b[0mwildlife_injuries\u001b[0m\u001b[0;34m.\u001b[0m\u001b[0mgroupby\u001b[0m\u001b[0;34m(\u001b[0m\u001b[0;34m[\u001b[0m\u001b[0mpd\u001b[0m\u001b[0;34m.\u001b[0m\u001b[0mGrouper\u001b[0m\u001b[0;34m(\u001b[0m\u001b[0mkey\u001b[0m\u001b[0;34m=\u001b[0m\u001b[0;34m'CALL_SAVED_TIME'\u001b[0m\u001b[0;34m,\u001b[0m \u001b[0mfreq\u001b[0m\u001b[0;34m=\u001b[0m\u001b[0;34m'W'\u001b[0m\u001b[0;34m)\u001b[0m\u001b[0;34m,\u001b[0m \u001b[0;34m'CALL_REGION'\u001b[0m\u001b[0;34m]\u001b[0m\u001b[0;34m,\u001b[0m \u001b[0mas_index\u001b[0m\u001b[0;34m=\u001b[0m\u001b[0;32mFalse\u001b[0m\u001b[0;34m)\u001b[0m\u001b[0;34m.\u001b[0m\u001b[0mcount\u001b[0m\u001b[0;34m(\u001b[0m\u001b[0;34m)\u001b[0m\u001b[0;34m\u001b[0m\u001b[0;34m\u001b[0m\u001b[0m\n\u001b[0m\u001b[1;32m      2\u001b[0m \u001b[0;31m#df_time_region.reset_index(inplace=True)\u001b[0m\u001b[0;34m\u001b[0m\u001b[0;34m\u001b[0m\u001b[0;34m\u001b[0m\u001b[0m\n\u001b[1;32m      3\u001b[0m \u001b[0;31m#df_time_region.loc[:, 'CALL_SAVED_TIME'] = pd.to_datetime(df_time_region.CALL_SAVED_TIME)\u001b[0m\u001b[0;34m\u001b[0m\u001b[0;34m\u001b[0m\u001b[0;34m\u001b[0m\u001b[0m\n\u001b[1;32m      4\u001b[0m \u001b[0;31m#df_time_region.set_index('CALL_SAVED_TIME').resample(rule='W').count()\u001b[0m\u001b[0;34m\u001b[0m\u001b[0;34m\u001b[0m\u001b[0;34m\u001b[0m\u001b[0m\n\u001b[1;32m      5\u001b[0m \u001b[0mdf_time_region\u001b[0m\u001b[0;34m\u001b[0m\u001b[0;34m\u001b[0m\u001b[0m\n",
      "\u001b[0;32m/usr/local/anaconda3/lib/python3.8/site-packages/pandas/core/frame.py\u001b[0m in \u001b[0;36mgroupby\u001b[0;34m(self, by, axis, level, as_index, sort, group_keys, squeeze, observed, dropna)\u001b[0m\n\u001b[1;32m   6712\u001b[0m         \u001b[0maxis\u001b[0m \u001b[0;34m=\u001b[0m \u001b[0mself\u001b[0m\u001b[0;34m.\u001b[0m\u001b[0m_get_axis_number\u001b[0m\u001b[0;34m(\u001b[0m\u001b[0maxis\u001b[0m\u001b[0;34m)\u001b[0m\u001b[0;34m\u001b[0m\u001b[0;34m\u001b[0m\u001b[0m\n\u001b[1;32m   6713\u001b[0m \u001b[0;34m\u001b[0m\u001b[0m\n\u001b[0;32m-> 6714\u001b[0;31m         return DataFrameGroupBy(\n\u001b[0m\u001b[1;32m   6715\u001b[0m             \u001b[0mobj\u001b[0m\u001b[0;34m=\u001b[0m\u001b[0mself\u001b[0m\u001b[0;34m,\u001b[0m\u001b[0;34m\u001b[0m\u001b[0;34m\u001b[0m\u001b[0m\n\u001b[1;32m   6716\u001b[0m             \u001b[0mkeys\u001b[0m\u001b[0;34m=\u001b[0m\u001b[0mby\u001b[0m\u001b[0;34m,\u001b[0m\u001b[0;34m\u001b[0m\u001b[0;34m\u001b[0m\u001b[0m\n",
      "\u001b[0;32m/usr/local/anaconda3/lib/python3.8/site-packages/pandas/core/groupby/groupby.py\u001b[0m in \u001b[0;36m__init__\u001b[0;34m(self, obj, keys, axis, level, grouper, exclusions, selection, as_index, sort, group_keys, squeeze, observed, mutated, dropna)\u001b[0m\n\u001b[1;32m    558\u001b[0m             \u001b[0;32mfrom\u001b[0m \u001b[0mpandas\u001b[0m\u001b[0;34m.\u001b[0m\u001b[0mcore\u001b[0m\u001b[0;34m.\u001b[0m\u001b[0mgroupby\u001b[0m\u001b[0;34m.\u001b[0m\u001b[0mgrouper\u001b[0m \u001b[0;32mimport\u001b[0m \u001b[0mget_grouper\u001b[0m\u001b[0;34m\u001b[0m\u001b[0;34m\u001b[0m\u001b[0m\n\u001b[1;32m    559\u001b[0m \u001b[0;34m\u001b[0m\u001b[0m\n\u001b[0;32m--> 560\u001b[0;31m             grouper, exclusions, obj = get_grouper(\n\u001b[0m\u001b[1;32m    561\u001b[0m                 \u001b[0mobj\u001b[0m\u001b[0;34m,\u001b[0m\u001b[0;34m\u001b[0m\u001b[0;34m\u001b[0m\u001b[0m\n\u001b[1;32m    562\u001b[0m                 \u001b[0mkeys\u001b[0m\u001b[0;34m,\u001b[0m\u001b[0;34m\u001b[0m\u001b[0;34m\u001b[0m\u001b[0m\n",
      "\u001b[0;32m/usr/local/anaconda3/lib/python3.8/site-packages/pandas/core/groupby/grouper.py\u001b[0m in \u001b[0;36mget_grouper\u001b[0;34m(obj, key, axis, level, sort, observed, mutated, validate, dropna)\u001b[0m\n\u001b[1;32m    831\u001b[0m         \u001b[0;31m# allow us to passing the actual Grouping as the gpr\u001b[0m\u001b[0;34m\u001b[0m\u001b[0;34m\u001b[0m\u001b[0;34m\u001b[0m\u001b[0m\n\u001b[1;32m    832\u001b[0m         ping = (\n\u001b[0;32m--> 833\u001b[0;31m             Grouping(\n\u001b[0m\u001b[1;32m    834\u001b[0m                 \u001b[0mgroup_axis\u001b[0m\u001b[0;34m,\u001b[0m\u001b[0;34m\u001b[0m\u001b[0;34m\u001b[0m\u001b[0m\n\u001b[1;32m    835\u001b[0m                 \u001b[0mgpr\u001b[0m\u001b[0;34m,\u001b[0m\u001b[0;34m\u001b[0m\u001b[0;34m\u001b[0m\u001b[0m\n",
      "\u001b[0;32m/usr/local/anaconda3/lib/python3.8/site-packages/pandas/core/groupby/grouper.py\u001b[0m in \u001b[0;36m__init__\u001b[0;34m(self, index, grouper, obj, name, level, sort, observed, in_axis, dropna)\u001b[0m\n\u001b[1;32m    492\u001b[0m             \u001b[0;31m# check again as we have by this point converted these\u001b[0m\u001b[0;34m\u001b[0m\u001b[0;34m\u001b[0m\u001b[0;34m\u001b[0m\u001b[0m\n\u001b[1;32m    493\u001b[0m             \u001b[0;31m# to an actual value (rather than a pd.Grouper)\u001b[0m\u001b[0;34m\u001b[0m\u001b[0;34m\u001b[0m\u001b[0;34m\u001b[0m\u001b[0m\n\u001b[0;32m--> 494\u001b[0;31m             \u001b[0m_\u001b[0m\u001b[0;34m,\u001b[0m \u001b[0mgrouper\u001b[0m\u001b[0;34m,\u001b[0m \u001b[0m_\u001b[0m \u001b[0;34m=\u001b[0m \u001b[0mself\u001b[0m\u001b[0;34m.\u001b[0m\u001b[0mgrouper\u001b[0m\u001b[0;34m.\u001b[0m\u001b[0m_get_grouper\u001b[0m\u001b[0;34m(\u001b[0m\u001b[0mself\u001b[0m\u001b[0;34m.\u001b[0m\u001b[0mobj\u001b[0m\u001b[0;34m,\u001b[0m \u001b[0mvalidate\u001b[0m\u001b[0;34m=\u001b[0m\u001b[0;32mFalse\u001b[0m\u001b[0;34m)\u001b[0m\u001b[0;34m\u001b[0m\u001b[0;34m\u001b[0m\u001b[0m\n\u001b[0m\u001b[1;32m    495\u001b[0m             \u001b[0;32mif\u001b[0m \u001b[0mself\u001b[0m\u001b[0;34m.\u001b[0m\u001b[0mname\u001b[0m \u001b[0;32mis\u001b[0m \u001b[0;32mNone\u001b[0m\u001b[0;34m:\u001b[0m\u001b[0;34m\u001b[0m\u001b[0;34m\u001b[0m\u001b[0m\n\u001b[1;32m    496\u001b[0m                 \u001b[0mself\u001b[0m\u001b[0;34m.\u001b[0m\u001b[0mname\u001b[0m \u001b[0;34m=\u001b[0m \u001b[0mgrouper\u001b[0m\u001b[0;34m.\u001b[0m\u001b[0mresult_index\u001b[0m\u001b[0;34m.\u001b[0m\u001b[0mname\u001b[0m\u001b[0;34m\u001b[0m\u001b[0;34m\u001b[0m\u001b[0m\n",
      "\u001b[0;32m/usr/local/anaconda3/lib/python3.8/site-packages/pandas/core/resample.py\u001b[0m in \u001b[0;36m_get_grouper\u001b[0;34m(self, obj, validate)\u001b[0m\n\u001b[1;32m   1482\u001b[0m     \u001b[0;32mdef\u001b[0m \u001b[0m_get_grouper\u001b[0m\u001b[0;34m(\u001b[0m\u001b[0mself\u001b[0m\u001b[0;34m,\u001b[0m \u001b[0mobj\u001b[0m\u001b[0;34m,\u001b[0m \u001b[0mvalidate\u001b[0m\u001b[0;34m:\u001b[0m \u001b[0mbool\u001b[0m \u001b[0;34m=\u001b[0m \u001b[0;32mTrue\u001b[0m\u001b[0;34m)\u001b[0m\u001b[0;34m:\u001b[0m\u001b[0;34m\u001b[0m\u001b[0;34m\u001b[0m\u001b[0m\n\u001b[1;32m   1483\u001b[0m         \u001b[0;31m# create the resampler and return our binner\u001b[0m\u001b[0;34m\u001b[0m\u001b[0;34m\u001b[0m\u001b[0;34m\u001b[0m\u001b[0m\n\u001b[0;32m-> 1484\u001b[0;31m         \u001b[0mr\u001b[0m \u001b[0;34m=\u001b[0m \u001b[0mself\u001b[0m\u001b[0;34m.\u001b[0m\u001b[0m_get_resampler\u001b[0m\u001b[0;34m(\u001b[0m\u001b[0mobj\u001b[0m\u001b[0;34m)\u001b[0m\u001b[0;34m\u001b[0m\u001b[0;34m\u001b[0m\u001b[0m\n\u001b[0m\u001b[1;32m   1485\u001b[0m         \u001b[0mr\u001b[0m\u001b[0;34m.\u001b[0m\u001b[0m_set_binner\u001b[0m\u001b[0;34m(\u001b[0m\u001b[0;34m)\u001b[0m\u001b[0;34m\u001b[0m\u001b[0;34m\u001b[0m\u001b[0m\n\u001b[1;32m   1486\u001b[0m         \u001b[0;32mreturn\u001b[0m \u001b[0mr\u001b[0m\u001b[0;34m.\u001b[0m\u001b[0mbinner\u001b[0m\u001b[0;34m,\u001b[0m \u001b[0mr\u001b[0m\u001b[0;34m.\u001b[0m\u001b[0mgrouper\u001b[0m\u001b[0;34m,\u001b[0m \u001b[0mr\u001b[0m\u001b[0;34m.\u001b[0m\u001b[0mobj\u001b[0m\u001b[0;34m\u001b[0m\u001b[0;34m\u001b[0m\u001b[0m\n",
      "\u001b[0;32m/usr/local/anaconda3/lib/python3.8/site-packages/pandas/core/resample.py\u001b[0m in \u001b[0;36m_get_resampler\u001b[0;34m(self, obj, kind)\u001b[0m\n\u001b[1;32m   1464\u001b[0m \u001b[0;34m\u001b[0m\u001b[0m\n\u001b[1;32m   1465\u001b[0m         \"\"\"\n\u001b[0;32m-> 1466\u001b[0;31m         \u001b[0mself\u001b[0m\u001b[0;34m.\u001b[0m\u001b[0m_set_grouper\u001b[0m\u001b[0;34m(\u001b[0m\u001b[0mobj\u001b[0m\u001b[0;34m)\u001b[0m\u001b[0;34m\u001b[0m\u001b[0;34m\u001b[0m\u001b[0m\n\u001b[0m\u001b[1;32m   1467\u001b[0m \u001b[0;34m\u001b[0m\u001b[0m\n\u001b[1;32m   1468\u001b[0m         \u001b[0max\u001b[0m \u001b[0;34m=\u001b[0m \u001b[0mself\u001b[0m\u001b[0;34m.\u001b[0m\u001b[0max\u001b[0m\u001b[0;34m\u001b[0m\u001b[0;34m\u001b[0m\u001b[0m\n",
      "\u001b[0;32m/usr/local/anaconda3/lib/python3.8/site-packages/pandas/core/groupby/grouper.py\u001b[0m in \u001b[0;36m_set_grouper\u001b[0;34m(self, obj, sort)\u001b[0m\n\u001b[1;32m    384\u001b[0m         \u001b[0;32mif\u001b[0m \u001b[0;34m(\u001b[0m\u001b[0mself\u001b[0m\u001b[0;34m.\u001b[0m\u001b[0msort\u001b[0m \u001b[0;32mor\u001b[0m \u001b[0msort\u001b[0m\u001b[0;34m)\u001b[0m \u001b[0;32mand\u001b[0m \u001b[0;32mnot\u001b[0m \u001b[0max\u001b[0m\u001b[0;34m.\u001b[0m\u001b[0mis_monotonic\u001b[0m\u001b[0;34m:\u001b[0m\u001b[0;34m\u001b[0m\u001b[0;34m\u001b[0m\u001b[0m\n\u001b[1;32m    385\u001b[0m             \u001b[0;31m# use stable sort to support first, last, nth\u001b[0m\u001b[0;34m\u001b[0m\u001b[0;34m\u001b[0m\u001b[0;34m\u001b[0m\u001b[0m\n\u001b[0;32m--> 386\u001b[0;31m             \u001b[0mindexer\u001b[0m \u001b[0;34m=\u001b[0m \u001b[0mself\u001b[0m\u001b[0;34m.\u001b[0m\u001b[0mindexer\u001b[0m \u001b[0;34m=\u001b[0m \u001b[0max\u001b[0m\u001b[0;34m.\u001b[0m\u001b[0margsort\u001b[0m\u001b[0;34m(\u001b[0m\u001b[0mkind\u001b[0m\u001b[0;34m=\u001b[0m\u001b[0;34m\"mergesort\"\u001b[0m\u001b[0;34m)\u001b[0m\u001b[0;34m\u001b[0m\u001b[0;34m\u001b[0m\u001b[0m\n\u001b[0m\u001b[1;32m    387\u001b[0m             \u001b[0max\u001b[0m \u001b[0;34m=\u001b[0m \u001b[0max\u001b[0m\u001b[0;34m.\u001b[0m\u001b[0mtake\u001b[0m\u001b[0;34m(\u001b[0m\u001b[0mindexer\u001b[0m\u001b[0;34m)\u001b[0m\u001b[0;34m\u001b[0m\u001b[0;34m\u001b[0m\u001b[0m\n\u001b[1;32m    388\u001b[0m             \u001b[0mobj\u001b[0m \u001b[0;34m=\u001b[0m \u001b[0mobj\u001b[0m\u001b[0;34m.\u001b[0m\u001b[0mtake\u001b[0m\u001b[0;34m(\u001b[0m\u001b[0mindexer\u001b[0m\u001b[0;34m,\u001b[0m \u001b[0maxis\u001b[0m\u001b[0;34m=\u001b[0m\u001b[0mself\u001b[0m\u001b[0;34m.\u001b[0m\u001b[0maxis\u001b[0m\u001b[0;34m)\u001b[0m\u001b[0;34m\u001b[0m\u001b[0;34m\u001b[0m\u001b[0m\n",
      "\u001b[0;32m/usr/local/anaconda3/lib/python3.8/site-packages/pandas/core/indexes/base.py\u001b[0m in \u001b[0;36margsort\u001b[0;34m(self, *args, **kwargs)\u001b[0m\n\u001b[1;32m   4788\u001b[0m         \u001b[0;31m# This works for either ndarray or EA, is overriden\u001b[0m\u001b[0;34m\u001b[0m\u001b[0;34m\u001b[0m\u001b[0;34m\u001b[0m\u001b[0m\n\u001b[1;32m   4789\u001b[0m         \u001b[0;31m#  by RangeIndex, MultIIndex\u001b[0m\u001b[0;34m\u001b[0m\u001b[0;34m\u001b[0m\u001b[0;34m\u001b[0m\u001b[0m\n\u001b[0;32m-> 4790\u001b[0;31m         \u001b[0;32mreturn\u001b[0m \u001b[0mself\u001b[0m\u001b[0;34m.\u001b[0m\u001b[0m_data\u001b[0m\u001b[0;34m.\u001b[0m\u001b[0margsort\u001b[0m\u001b[0;34m(\u001b[0m\u001b[0;34m*\u001b[0m\u001b[0margs\u001b[0m\u001b[0;34m,\u001b[0m \u001b[0;34m**\u001b[0m\u001b[0mkwargs\u001b[0m\u001b[0;34m)\u001b[0m\u001b[0;34m\u001b[0m\u001b[0;34m\u001b[0m\u001b[0m\n\u001b[0m\u001b[1;32m   4791\u001b[0m \u001b[0;34m\u001b[0m\u001b[0m\n\u001b[1;32m   4792\u001b[0m     \u001b[0;34m@\u001b[0m\u001b[0mfinal\u001b[0m\u001b[0;34m\u001b[0m\u001b[0;34m\u001b[0m\u001b[0m\n",
      "\u001b[0;31mTypeError\u001b[0m: '<' not supported between instances of 'str' and 'float'"
     ]
    }
   ],
   "source": [
    "df_time_region = wildlife_injuries.groupby([pd.Grouper(key='CALL_SAVED_TIME', freq='W'), 'CALL_REGION'], as_index=False).count()\n",
    "#df_time_region.reset_index(inplace=True)\n",
    "#df_time_region.loc[:, 'CALL_SAVED_TIME'] = pd.to_datetime(df_time_region.CALL_SAVED_TIME)\n",
    "#df_time_region.set_index('CALL_SAVED_TIME').resample(rule='W').count()\n",
    "df_time_region"
   ]
  },
  {
   "cell_type": "code",
   "execution_count": 53,
   "id": "billion-increase",
   "metadata": {},
   "outputs": [
    {
     "data": {
      "image/png": "[encoded data removed]",
      "text/plain": [
       "<Figure size 432x288 with 1 Axes>"
      ]
     },
     "metadata": {
      "needs_background": "light"
     },
     "output_type": "display_data"
    }
   ],
   "source": [
    "sns.lineplot(x = \"CALL_SAVED_TIME\", y = \"reason_for_call\", hue = 'CALL_REGION',data = df_time_region)\n",
    "plt.xticks(np.arange(0, 852, 30),rotation = 90)\n",
    "plt.xlabel(\"Date\", size=15)\n",
    "plt.ylabel(\"Number of injuries\", size=15)\n",
    "plt.title(\"Number of injuries across the last three years\", size=18)\n",
    "plt.tight_layout()"
   ]
  },
  {
   "cell_type": "code",
   "execution_count": 56,
   "id": "missing-drill",
   "metadata": {},
   "outputs": [
    {
     "data": {
      "text/plain": [
       "<AxesSubplot:xlabel='CALL_SAVED_TIME', ylabel='reason_for_call'>"
      ]
     },
     "execution_count": 56,
     "metadata": {},
     "output_type": "execute_result"
    },
    {
     "data": {
      "image/png": "[encoded data removed]",
      "text/plain": [
       "<Figure size 432x288 with 1 Axes>"
      ]
     },
     "metadata": {
      "needs_background": "light"
     },
     "output_type": "display_data"
    }
   ],
   "source": [
    "aberdeen = df_time_region.query('CALL_REGION==\"Aberdeen\"')\n",
    "aberdeen.loc[:, 'CALL_SAVED_TIME'] = \n",
    "sns.lineplot(data = aberdeen,x = 'CALL_SAVED_TIME',y = 'reason_for_call')"
   ]
  },
  {
   "cell_type": "code",
   "execution_count": 55,
   "id": "excessive-wrapping",
   "metadata": {},
   "outputs": [
    {
     "name": "stdout",
     "output_type": "stream",
     "text": [
      "<class 'pandas.core.frame.DataFrame'>\n",
      "Int64Index: 5074 entries, 0 to 5073\n",
      "Data columns (total 6 columns):\n",
      " #   Column           Non-Null Count  Dtype \n",
      "---  ------           --------------  ----- \n",
      " 0   CALL_SAVED_TIME  5074 non-null   object\n",
      " 1   CALL_REGION      5074 non-null   object\n",
      " 2   Unnamed: 0       5074 non-null   int64 \n",
      " 3   CA_ANIMAL_TYPE   5074 non-null   int64 \n",
      " 4   reason_for_call  5074 non-null   int64 \n",
      " 5   type_of_calls    5074 non-null   int64 \n",
      "dtypes: int64(4), object(2)\n",
      "memory usage: 277.5+ KB\n"
     ]
    }
   ],
   "source": [
    "df_time_region.info()"
   ]
  },
  {
   "cell_type": "code",
   "execution_count": 51,
   "id": "noble-harvard",
   "metadata": {},
   "outputs": [
    {
     "data": {
      "text/plain": [
       "<seaborn.axisgrid.FacetGrid at 0x7fa8b2fea0d0>"
      ]
     },
     "execution_count": 51,
     "metadata": {},
     "output_type": "execute_result"
    },
    {
     "data": {
      "image/png": "[encoded data removed]",
      "text/plain": [
       "<Figure size 1296x216 with 6 Axes>"
      ]
     },
     "metadata": {
      "needs_background": "light"
     },
     "output_type": "display_data"
    }
   ],
   "source": [
    "separate = sns.FacetGrid(df_time_region, col = 'CALL_REGION')\n",
    "separate.map(sns.lineplot())"
   ]
  },
  {
   "cell_type": "markdown",
   "id": "quarterly-sentence",
   "metadata": {},
   "source": [
    "# Trend by types of animals"
   ]
  },
  {
   "cell_type": "code",
   "execution_count": 17,
   "id": "acute-browse",
   "metadata": {
    "scrolled": true
   },
   "outputs": [
    {
     "data": {
      "text/html": [
       "<div>\n",
       "<style scoped>\n",
       "    .dataframe tbody tr th:only-of-type {\n",
       "        vertical-align: middle;\n",
       "    }\n",
       "\n",
       "    .dataframe tbody tr th {\n",
       "        vertical-align: top;\n",
       "    }\n",
       "\n",
       "    .dataframe thead th {\n",
       "        text-align: right;\n",
       "    }\n",
       "</style>\n",
       "<table border=\"1\" class=\"dataframe\">\n",
       "  <thead>\n",
       "    <tr style=\"text-align: right;\">\n",
       "      <th></th>\n",
       "      <th></th>\n",
       "      <th>Unnamed: 0</th>\n",
       "      <th>CALL_SAVED_TIME</th>\n",
       "      <th>reason_for_call</th>\n",
       "      <th>type_of_calls</th>\n",
       "    </tr>\n",
       "    <tr>\n",
       "      <th>CALL_REGION</th>\n",
       "      <th>CA_ANIMAL_TYPE</th>\n",
       "      <th></th>\n",
       "      <th></th>\n",
       "      <th></th>\n",
       "      <th></th>\n",
       "    </tr>\n",
       "  </thead>\n",
       "  <tbody>\n",
       "    <tr>\n",
       "      <th rowspan=\"5\" valign=\"top\">Aberdeen</th>\n",
       "      <th>*Other Wildlife</th>\n",
       "      <td>192</td>\n",
       "      <td>192</td>\n",
       "      <td>192</td>\n",
       "      <td>192</td>\n",
       "    </tr>\n",
       "    <tr>\n",
       "      <th>Badger</th>\n",
       "      <td>40</td>\n",
       "      <td>40</td>\n",
       "      <td>40</td>\n",
       "      <td>40</td>\n",
       "    </tr>\n",
       "    <tr>\n",
       "      <th>Bat</th>\n",
       "      <td>170</td>\n",
       "      <td>170</td>\n",
       "      <td>170</td>\n",
       "      <td>170</td>\n",
       "    </tr>\n",
       "    <tr>\n",
       "      <th>Deer</th>\n",
       "      <td>615</td>\n",
       "      <td>615</td>\n",
       "      <td>615</td>\n",
       "      <td>615</td>\n",
       "    </tr>\n",
       "    <tr>\n",
       "      <th>Duck</th>\n",
       "      <td>259</td>\n",
       "      <td>259</td>\n",
       "      <td>259</td>\n",
       "      <td>259</td>\n",
       "    </tr>\n",
       "    <tr>\n",
       "      <th>...</th>\n",
       "      <th>...</th>\n",
       "      <td>...</td>\n",
       "      <td>...</td>\n",
       "      <td>...</td>\n",
       "      <td>...</td>\n",
       "    </tr>\n",
       "    <tr>\n",
       "      <th rowspan=\"5\" valign=\"top\">Unknown</th>\n",
       "      <th>Swan</th>\n",
       "      <td>313</td>\n",
       "      <td>313</td>\n",
       "      <td>313</td>\n",
       "      <td>313</td>\n",
       "    </tr>\n",
       "    <tr>\n",
       "      <th>Weasel</th>\n",
       "      <td>6</td>\n",
       "      <td>6</td>\n",
       "      <td>6</td>\n",
       "      <td>6</td>\n",
       "    </tr>\n",
       "    <tr>\n",
       "      <th>Wild Bird</th>\n",
       "      <td>2495</td>\n",
       "      <td>2494</td>\n",
       "      <td>2495</td>\n",
       "      <td>2495</td>\n",
       "    </tr>\n",
       "    <tr>\n",
       "      <th>Wild Mouse</th>\n",
       "      <td>32</td>\n",
       "      <td>32</td>\n",
       "      <td>32</td>\n",
       "      <td>32</td>\n",
       "    </tr>\n",
       "    <tr>\n",
       "      <th>Wild Rabbit</th>\n",
       "      <td>65</td>\n",
       "      <td>65</td>\n",
       "      <td>65</td>\n",
       "      <td>65</td>\n",
       "    </tr>\n",
       "  </tbody>\n",
       "</table>\n",
       "<p>143 rows × 4 columns</p>\n",
       "</div>"
      ],
      "text/plain": [
       "                             Unnamed: 0  CALL_SAVED_TIME  reason_for_call  \\\n",
       "CALL_REGION CA_ANIMAL_TYPE                                                  \n",
       "Aberdeen    *Other Wildlife         192              192              192   \n",
       "            Badger                   40               40               40   \n",
       "            Bat                     170              170              170   \n",
       "            Deer                    615              615              615   \n",
       "            Duck                    259              259              259   \n",
       "...                                 ...              ...              ...   \n",
       "Unknown     Swan                    313              313              313   \n",
       "            Weasel                    6                6                6   \n",
       "            Wild Bird              2495             2494             2495   \n",
       "            Wild Mouse               32               32               32   \n",
       "            Wild Rabbit              65               65               65   \n",
       "\n",
       "                             type_of_calls  \n",
       "CALL_REGION CA_ANIMAL_TYPE                  \n",
       "Aberdeen    *Other Wildlife            192  \n",
       "            Badger                      40  \n",
       "            Bat                        170  \n",
       "            Deer                       615  \n",
       "            Duck                       259  \n",
       "...                                    ...  \n",
       "Unknown     Swan                       313  \n",
       "            Weasel                       6  \n",
       "            Wild Bird                 2495  \n",
       "            Wild Mouse                  32  \n",
       "            Wild Rabbit                 65  \n",
       "\n",
       "[143 rows x 4 columns]"
      ]
     },
     "execution_count": 17,
     "metadata": {},
     "output_type": "execute_result"
    }
   ],
   "source": [
    "df_type_region = wildlife_injuries.groupby(['CALL_REGION','CA_ANIMAL_TYPE']).count()\n",
    "df_type_region"
   ]
  },
  {
   "cell_type": "code",
   "execution_count": 18,
   "id": "medium-measurement",
   "metadata": {},
   "outputs": [],
   "source": [
    "df_type_region['Region_and_type'] = df_type_region.index"
   ]
  },
  {
   "cell_type": "code",
   "execution_count": 19,
   "id": "advised-arrow",
   "metadata": {},
   "outputs": [
    {
     "data": {
      "text/html": [
       "<div>\n",
       "<style scoped>\n",
       "    .dataframe tbody tr th:only-of-type {\n",
       "        vertical-align: middle;\n",
       "    }\n",
       "\n",
       "    .dataframe tbody tr th {\n",
       "        vertical-align: top;\n",
       "    }\n",
       "\n",
       "    .dataframe thead th {\n",
       "        text-align: right;\n",
       "    }\n",
       "</style>\n",
       "<table border=\"1\" class=\"dataframe\">\n",
       "  <thead>\n",
       "    <tr style=\"text-align: right;\">\n",
       "      <th></th>\n",
       "      <th></th>\n",
       "      <th>Unnamed: 0</th>\n",
       "      <th>CALL_SAVED_TIME</th>\n",
       "      <th>reason_for_call</th>\n",
       "      <th>type_of_calls</th>\n",
       "      <th>Region_and_type</th>\n",
       "    </tr>\n",
       "    <tr>\n",
       "      <th>CALL_REGION</th>\n",
       "      <th>CA_ANIMAL_TYPE</th>\n",
       "      <th></th>\n",
       "      <th></th>\n",
       "      <th></th>\n",
       "      <th></th>\n",
       "      <th></th>\n",
       "    </tr>\n",
       "  </thead>\n",
       "  <tbody>\n",
       "    <tr>\n",
       "      <th rowspan=\"5\" valign=\"top\">Aberdeen</th>\n",
       "      <th>*Other Wildlife</th>\n",
       "      <td>192</td>\n",
       "      <td>192</td>\n",
       "      <td>192</td>\n",
       "      <td>192</td>\n",
       "      <td>(Aberdeen, *Other Wildlife)</td>\n",
       "    </tr>\n",
       "    <tr>\n",
       "      <th>Badger</th>\n",
       "      <td>40</td>\n",
       "      <td>40</td>\n",
       "      <td>40</td>\n",
       "      <td>40</td>\n",
       "      <td>(Aberdeen, Badger)</td>\n",
       "    </tr>\n",
       "    <tr>\n",
       "      <th>Bat</th>\n",
       "      <td>170</td>\n",
       "      <td>170</td>\n",
       "      <td>170</td>\n",
       "      <td>170</td>\n",
       "      <td>(Aberdeen, Bat)</td>\n",
       "    </tr>\n",
       "    <tr>\n",
       "      <th>Deer</th>\n",
       "      <td>615</td>\n",
       "      <td>615</td>\n",
       "      <td>615</td>\n",
       "      <td>615</td>\n",
       "      <td>(Aberdeen, Deer)</td>\n",
       "    </tr>\n",
       "    <tr>\n",
       "      <th>Duck</th>\n",
       "      <td>259</td>\n",
       "      <td>259</td>\n",
       "      <td>259</td>\n",
       "      <td>259</td>\n",
       "      <td>(Aberdeen, Duck)</td>\n",
       "    </tr>\n",
       "    <tr>\n",
       "      <th>...</th>\n",
       "      <th>...</th>\n",
       "      <td>...</td>\n",
       "      <td>...</td>\n",
       "      <td>...</td>\n",
       "      <td>...</td>\n",
       "      <td>...</td>\n",
       "    </tr>\n",
       "    <tr>\n",
       "      <th rowspan=\"5\" valign=\"top\">Unknown</th>\n",
       "      <th>Swan</th>\n",
       "      <td>313</td>\n",
       "      <td>313</td>\n",
       "      <td>313</td>\n",
       "      <td>313</td>\n",
       "      <td>(Unknown, Swan)</td>\n",
       "    </tr>\n",
       "    <tr>\n",
       "      <th>Weasel</th>\n",
       "      <td>6</td>\n",
       "      <td>6</td>\n",
       "      <td>6</td>\n",
       "      <td>6</td>\n",
       "      <td>(Unknown, Weasel)</td>\n",
       "    </tr>\n",
       "    <tr>\n",
       "      <th>Wild Bird</th>\n",
       "      <td>2495</td>\n",
       "      <td>2494</td>\n",
       "      <td>2495</td>\n",
       "      <td>2495</td>\n",
       "      <td>(Unknown, Wild Bird)</td>\n",
       "    </tr>\n",
       "    <tr>\n",
       "      <th>Wild Mouse</th>\n",
       "      <td>32</td>\n",
       "      <td>32</td>\n",
       "      <td>32</td>\n",
       "      <td>32</td>\n",
       "      <td>(Unknown, Wild Mouse)</td>\n",
       "    </tr>\n",
       "    <tr>\n",
       "      <th>Wild Rabbit</th>\n",
       "      <td>65</td>\n",
       "      <td>65</td>\n",
       "      <td>65</td>\n",
       "      <td>65</td>\n",
       "      <td>(Unknown, Wild Rabbit)</td>\n",
       "    </tr>\n",
       "  </tbody>\n",
       "</table>\n",
       "<p>143 rows × 5 columns</p>\n",
       "</div>"
      ],
      "text/plain": [
       "                             Unnamed: 0  CALL_SAVED_TIME  reason_for_call  \\\n",
       "CALL_REGION CA_ANIMAL_TYPE                                                  \n",
       "Aberdeen    *Other Wildlife         192              192              192   \n",
       "            Badger                   40               40               40   \n",
       "            Bat                     170              170              170   \n",
       "            Deer                    615              615              615   \n",
       "            Duck                    259              259              259   \n",
       "...                                 ...              ...              ...   \n",
       "Unknown     Swan                    313              313              313   \n",
       "            Weasel                    6                6                6   \n",
       "            Wild Bird              2495             2494             2495   \n",
       "            Wild Mouse               32               32               32   \n",
       "            Wild Rabbit              65               65               65   \n",
       "\n",
       "                             type_of_calls              Region_and_type  \n",
       "CALL_REGION CA_ANIMAL_TYPE                                               \n",
       "Aberdeen    *Other Wildlife            192  (Aberdeen, *Other Wildlife)  \n",
       "            Badger                      40           (Aberdeen, Badger)  \n",
       "            Bat                        170              (Aberdeen, Bat)  \n",
       "            Deer                       615             (Aberdeen, Deer)  \n",
       "            Duck                       259             (Aberdeen, Duck)  \n",
       "...                                    ...                          ...  \n",
       "Unknown     Swan                       313              (Unknown, Swan)  \n",
       "            Weasel                       6            (Unknown, Weasel)  \n",
       "            Wild Bird                 2495         (Unknown, Wild Bird)  \n",
       "            Wild Mouse                  32        (Unknown, Wild Mouse)  \n",
       "            Wild Rabbit                 65       (Unknown, Wild Rabbit)  \n",
       "\n",
       "[143 rows x 5 columns]"
      ]
     },
     "execution_count": 19,
     "metadata": {},
     "output_type": "execute_result"
    }
   ],
   "source": [
    "df_type_region"
   ]
  },
  {
   "cell_type": "code",
   "execution_count": 20,
   "id": "seventh-classroom",
   "metadata": {},
   "outputs": [
    {
     "data": {
      "image/png": "[encoded data removed]",
      "text/plain": [
       "<Figure size 432x288 with 1 Axes>"
      ]
     },
     "metadata": {
      "needs_background": "light"
     },
     "output_type": "display_data"
    }
   ],
   "source": [
    "sns.barplot(x=\"Region_and_type\", y=\"reason_for_call\", data=df_type_region)\n",
    "plt.xlabel(\"Regions\", size=15)\n",
    "plt.ylabel(\"Number of injuries\", size=15)\n",
    "plt.title(\"Number of injuries by different animal types\", size=18)\n",
    "plt.tight_layout()"
   ]
  },
  {
   "cell_type": "code",
   "execution_count": null,
   "id": "unlikely-command",
   "metadata": {},
   "outputs": [],
   "source": []
  }
 ],
 "metadata": {
  "kernelspec": {
   "display_name": "Python 3",
   "language": "python",
   "name": "python3"
  },
  "language_info": {
   "codemirror_mode": {
    "name": "ipython",
    "version": 3
   },
   "file_extension": ".py",
   "mimetype": "text/x-python",
   "name": "python",
   "nbconvert_exporter": "python",
   "pygments_lexer": "ipython3",
   "version": "3.8.5"
  },
  "varInspector": {
   "cols": {
    "lenName": 16,
    "lenType": 16,
    "lenVar": 40
   },
   "kernels_config": {
    "python": {
     "delete_cmd_postfix": "",
     "delete_cmd_prefix": "del ",
     "library": "var_list.py",
     "varRefreshCmd": "print(var_dic_list())"
    },
    "r": {
     "delete_cmd_postfix": ") ",
     "delete_cmd_prefix": "rm(",
     "library": "var_list.r",
     "varRefreshCmd": "cat(var_dic_list()) "
    }
   },
   "types_to_exclude": [
    "module",
    "function",
    "builtin_function_or_method",
    "instance",
    "_Feature"
   ],
   "window_display": false
  }
 },
 "nbformat": 4,
 "nbformat_minor": 5
}
