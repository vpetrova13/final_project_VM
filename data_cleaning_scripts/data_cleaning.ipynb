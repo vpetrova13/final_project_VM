{
 "cells": [
  {
   "cell_type": "code",
   "execution_count": null,
   "id": "technological-google",
   "metadata": {},
   "outputs": [],
   "source": [
    "import pandas as pd\n",
    "import re\n",
    "import numpy as np\n",
    "import datetime"
   ]
  },
  {
   "cell_type": "code",
   "execution_count": null,
   "id": "unsigned-hypothesis",
   "metadata": {},
   "outputs": [],
   "source": [
    "data = pd.read_excel('../Wildlife_Data.xlsx', sheet_name = None, engine='openpyxl')"
   ]
  },
  {
   "cell_type": "code",
   "execution_count": null,
   "id": "written-budget",
   "metadata": {},
   "outputs": [],
   "source": [
    "data.keys()\n",
    "#there are three sheets of data"
   ]
  },
  {
   "cell_type": "code",
   "execution_count": null,
   "id": "accomplished-repair",
   "metadata": {},
   "outputs": [],
   "source": [
    "wildlife_2018 = pd.read_excel('../Wildlife_Data.xlsx', sheet_name = '2018', engine='openpyxl')\n",
    "wildlife_2019 = pd.read_excel('../Wildlife_Data.xlsx', sheet_name = '2019', engine='openpyxl')\n",
    "wildlife_2020 = pd.read_excel('../Wildlife_Data.xlsx', sheet_name = '2020', engine='openpyxl')"
   ]
  },
  {
   "cell_type": "code",
   "execution_count": null,
   "id": "careful-tournament",
   "metadata": {
    "scrolled": true
   },
   "outputs": [],
   "source": [
    "wildlife_2018.head()\n",
    "#have Unnamed columns: requires further investigation"
   ]
  },
  {
   "cell_type": "code",
   "execution_count": null,
   "id": "peaceful-appointment",
   "metadata": {},
   "outputs": [],
   "source": [
    "wildlife_2019.head()"
   ]
  },
  {
   "cell_type": "code",
   "execution_count": null,
   "id": "moved-domain",
   "metadata": {
    "scrolled": true
   },
   "outputs": [],
   "source": [
    "wildlife_2020.head()"
   ]
  },
  {
   "cell_type": "code",
   "execution_count": null,
   "id": "blind-calvin",
   "metadata": {},
   "outputs": [],
   "source": [
    "wildlife_2018.shape"
   ]
  },
  {
   "cell_type": "code",
   "execution_count": null,
   "id": "wound-wireless",
   "metadata": {},
   "outputs": [],
   "source": [
    "wildlife_2019.shape"
   ]
  },
  {
   "cell_type": "code",
   "execution_count": null,
   "id": "inner-diana",
   "metadata": {},
   "outputs": [],
   "source": [
    "wildlife_2020.shape"
   ]
  },
  {
   "cell_type": "code",
   "execution_count": null,
   "id": "caroline-estimate",
   "metadata": {},
   "outputs": [],
   "source": [
    "wildlife_2018['Unnamed: 4'].unique()\n",
    "#it has strange observations in rows"
   ]
  },
  {
   "cell_type": "code",
   "execution_count": null,
   "id": "changing-magic",
   "metadata": {},
   "outputs": [],
   "source": [
    "wildlife_2018['Unnamed: 5'].unique()"
   ]
  },
  {
   "cell_type": "code",
   "execution_count": null,
   "id": "color-heavy",
   "metadata": {},
   "outputs": [],
   "source": [
    "wildlife_2018['Unnamed: 6'].unique()"
   ]
  },
  {
   "cell_type": "code",
   "execution_count": null,
   "id": "neutral-monroe",
   "metadata": {},
   "outputs": [],
   "source": [
    "wildlife_2018['Unnamed: 7'].unique()"
   ]
  },
  {
   "cell_type": "code",
   "execution_count": null,
   "id": "alert-excess",
   "metadata": {},
   "outputs": [],
   "source": [
    "wildlife_2018['Unnamed: 8'].unique()"
   ]
  },
  {
   "cell_type": "code",
   "execution_count": null,
   "id": "elder-olive",
   "metadata": {},
   "outputs": [],
   "source": [
    "wildlife_data = pd.concat(data, ignore_index=True)\n",
    "#combined all three sheets\n",
    "#'call_saved_time' column has all years by which it can be distinguished"
   ]
  },
  {
   "cell_type": "code",
   "execution_count": null,
   "id": "threatened-olympus",
   "metadata": {},
   "outputs": [],
   "source": [
    "wildlife_data.head()"
   ]
  },
  {
   "cell_type": "code",
   "execution_count": null,
   "id": "musical-steel",
   "metadata": {
    "scrolled": true
   },
   "outputs": [],
   "source": [
    "wildlife_data.shape\n",
    "#total rows as expected after combining three sheets"
   ]
  },
  {
   "cell_type": "code",
   "execution_count": null,
   "id": "transparent-alliance",
   "metadata": {},
   "outputs": [],
   "source": [
    "wildlife_data.info()"
   ]
  },
  {
   "cell_type": "markdown",
   "id": "random-senator",
   "metadata": {},
   "source": [
    "# Removing extra columns"
   ]
  },
  {
   "cell_type": "code",
   "execution_count": null,
   "id": "academic-sacramento",
   "metadata": {},
   "outputs": [],
   "source": [
    "wildlife_extra = wildlife_data[wildlife_data['Unnamed: 4'].notnull()].copy()\n",
    "#created new object to work with it and then transfer to the main dataset"
   ]
  },
  {
   "cell_type": "code",
   "execution_count": null,
   "id": "dynamic-aberdeen",
   "metadata": {
    "scrolled": false
   },
   "outputs": [],
   "source": [
    "wildlife_2018[wildlife_2018['Unnamed: 4'].notnull()]\n",
    "#looks like text from 'call_description' was shifted to right due to lack of space"
   ]
  },
  {
   "cell_type": "code",
   "execution_count": null,
   "id": "previous-insured",
   "metadata": {
    "scrolled": true
   },
   "outputs": [],
   "source": [
    "wildlife_2018.loc[61861,'CALL_DESCRIPTION']\n",
    "#it looks like data was typed into more columns than one as they also describe calls"
   ]
  },
  {
   "cell_type": "code",
   "execution_count": null,
   "id": "supreme-diagram",
   "metadata": {},
   "outputs": [],
   "source": [
    "wildlife_extra.head()"
   ]
  },
  {
   "cell_type": "code",
   "execution_count": null,
   "id": "impressive-thursday",
   "metadata": {
    "scrolled": true
   },
   "outputs": [],
   "source": [
    "wildlife_extra.shape\n",
    "#only 31 rows require fixing"
   ]
  },
  {
   "cell_type": "code",
   "execution_count": null,
   "id": "quality-short",
   "metadata": {},
   "outputs": [],
   "source": [
    "#read full information\n",
    "wildlife_extra.loc[101802, 'CALL_DESCRIPTION']= wildlife_extra.loc[101802, 'CALL_DESCRIPTION'] + wildlife_extra.loc[101802, 'CALL_REGION'] + wildlife_extra.loc[101802, 'CA_ANIMAL_TYPE']"
   ]
  },
  {
   "cell_type": "code",
   "execution_count": null,
   "id": "innocent-triangle",
   "metadata": {},
   "outputs": [],
   "source": [
    "wildlife_extra.loc[101802, 'CALL_DESCRIPTION']"
   ]
  },
  {
   "cell_type": "code",
   "execution_count": null,
   "id": "ancient-palmer",
   "metadata": {
    "scrolled": true
   },
   "outputs": [],
   "source": [
    "# Fix columns manually\n",
    "wildlife_extra.loc[59563,'CALL_REGION'] = 'Unknown'\n",
    "wildlife_extra.loc[59563,'CA_ANIMAL_TYPE'] = wildlife_extra.loc[59563,'Unnamed: 4']\n",
    "wildlife_extra.loc[59563,'CALL_SAVED_TIME'] = 'Unknown'\n",
    "\n",
    "wildlife_extra.loc[60430,'CALL_REGION'] = 'Unknown'\n",
    "wildlife_extra.loc[60430,'CA_ANIMAL_TYPE'] = wildlife_extra.loc[60430,'Unnamed: 4']\n",
    "wildlife_extra.loc[60430,'CALL_SAVED_TIME'] = 'Unknown'\n",
    "\n",
    "wildlife_extra.loc[70360,'CALL_REGION'] = wildlife_extra.loc[70360,'CA_ANIMAL_TYPE']\n",
    "wildlife_extra.loc[70360,'CA_ANIMAL_TYPE'] = 'Wild Bird'\n",
    "wildlife_extra.loc[70360,'CALL_SAVED_TIME'] = 'Unknown'\n",
    "\n",
    "wildlife_extra.loc[73945,'CALL_REGION'] = wildlife_extra.loc[73945,'CA_ANIMAL_TYPE']\n",
    "wildlife_extra.loc[73945,'CA_ANIMAL_TYPE'] = 'Unknown'\n",
    "wildlife_extra.loc[73945,'CALL_SAVED_TIME'] = 'Unknown'\n",
    "\n",
    "wildlife_extra.loc[80463,'CALL_REGION'] = wildlife_extra.loc[80463,'Unnamed: 5']\n",
    "wildlife_extra.loc[80463,'CA_ANIMAL_TYPE'] = wildlife_extra.loc[80463,'Unnamed: 7']\n",
    "wildlife_extra.loc[80463,'CALL_SAVED_TIME'] = 'Unknown'\n",
    "\n",
    "wildlife_extra.loc[80820,'CALL_REGION'] = wildlife_extra.loc[80820,'Unnamed: 5']\n",
    "wildlife_extra.loc[80820,'CA_ANIMAL_TYPE'] = 'Wild Bird'\n",
    "wildlife_extra.loc[80820,'CALL_SAVED_TIME'] = 'Unknown'\n",
    "\n",
    "wildlife_extra.loc[82926,'CALL_REGION'] = 'Glasgow'\n",
    "wildlife_extra.loc[82926,'CA_ANIMAL_TYPE'] = 'Swan'\n",
    "wildlife_extra.loc[82926,'CALL_SAVED_TIME'] = 'Unknown'\n",
    "\n",
    "wildlife_extra.loc[85871,'CALL_REGION'] = 'Inverness'\n",
    "wildlife_extra.loc[85871,'CA_ANIMAL_TYPE'] = 'Wild Bird'\n",
    "wildlife_extra.loc[85871,'CALL_SAVED_TIME'] = 'Unknown'\n",
    "\n",
    "wildlife_extra.loc[87768,'CALL_REGION'] = 'Unknown'\n",
    "wildlife_extra.loc[87768,'CA_ANIMAL_TYPE'] = 'Deer'\n",
    "wildlife_extra.loc[87768,'CALL_SAVED_TIME'] = 'Unknown'\n",
    "\n",
    "wildlife_extra.loc[87795,'CALL_REGION'] = 'Central'\n",
    "wildlife_extra.loc[87795,'CA_ANIMAL_TYPE'] = 'Wild Bird'\n",
    "wildlife_extra.loc[87795,'CALL_SAVED_TIME'] = 'Unknown'\n",
    "\n",
    "wildlife_extra.loc[88364,'CALL_REGION'] = 'Unknown'\n",
    "wildlife_extra.loc[88364,'CA_ANIMAL_TYPE'] = 'Fox'\n",
    "wildlife_extra.loc[88364,'CALL_SAVED_TIME'] = 'Unknown'\n",
    "\n",
    "wildlife_extra.loc[91823,'CALL_REGION'] = 'Unknown'\n",
    "wildlife_extra.loc[91823,'CA_ANIMAL_TYPE'] = 'Owl'\n",
    "wildlife_extra.loc[91823,'CALL_SAVED_TIME'] = 'Unknown'\n",
    "\n",
    "wildlife_extra.loc[94412,'CALL_REGION'] = 'Central'\n",
    "wildlife_extra.loc[94412,'CA_ANIMAL_TYPE'] = 'Deer'\n",
    "wildlife_extra.loc[94412,'CALL_SAVED_TIME'] = 'Unknown'\n",
    "\n",
    "wildlife_extra.loc[95142,'CALL_REGION'] = 'Edinburgh'\n",
    "wildlife_extra.loc[95142,'CA_ANIMAL_TYPE'] = 'Unknown'\n",
    "wildlife_extra.loc[95142,'CALL_SAVED_TIME'] = '2018-05-18 00:00:00'\n",
    "\n",
    "wildlife_extra.loc[96115,'CALL_REGION'] = 'Unknown'\n",
    "wildlife_extra.loc[96115,'CA_ANIMAL_TYPE'] = 'Wild Bird'\n",
    "wildlife_extra.loc[96115,'CALL_SAVED_TIME'] = 'Unknown'\n",
    "\n",
    "wildlife_extra.loc[98692,'CALL_REGION'] = 'Central'\n",
    "wildlife_extra.loc[98692,'CA_ANIMAL_TYPE'] = 'Rabbit'\n",
    "wildlife_extra.loc[98692,'CALL_SAVED_TIME'] = 'Unknown'\n",
    "\n",
    "wildlife_extra.loc[101056,'CALL_REGION'] = 'Unknown'\n",
    "wildlife_extra.loc[101056,'CA_ANIMAL_TYPE'] = 'Squirrel'\n",
    "wildlife_extra.loc[101056,'CALL_SAVED_TIME'] = 'Unknown'\n",
    "\n",
    "wildlife_extra.loc[101501,'CALL_REGION'] = 'Aberdeen'\n",
    "wildlife_extra.loc[101501,'CA_ANIMAL_TYPE'] = 'Hedgehog'\n",
    "wildlife_extra.loc[101501,'CALL_SAVED_TIME'] = 'Unknown'\n",
    "\n",
    "wildlife_extra.loc[101802,'CALL_REGION'] = 'Unknown'\n",
    "wildlife_extra.loc[101802,'CA_ANIMAL_TYPE'] = '*Other Wildlife'\n",
    "wildlife_extra.loc[101802,'CALL_SAVED_TIME'] = 'Unknown'\n",
    "\n",
    "wildlife_extra.loc[102499,'CALL_REGION'] = 'Aberdeen'\n",
    "wildlife_extra.loc[102499,'CA_ANIMAL_TYPE'] = 'Wild Bird'\n",
    "wildlife_extra.loc[102499,'CALL_SAVED_TIME'] = 'Unknown'\n",
    "\n",
    "wildlife_extra.loc[105135,'CALL_REGION'] = 'Edinburgh'\n",
    "wildlife_extra.loc[105135,'CA_ANIMAL_TYPE'] = 'Fledgling'\n",
    "wildlife_extra.loc[105135,'CALL_SAVED_TIME'] = 'Unknown'\n",
    "\n",
    "wildlife_extra.loc[108094,'CALL_REGION'] = 'Aberdeen'\n",
    "wildlife_extra.loc[108094,'CA_ANIMAL_TYPE'] = 'Seagull'\n",
    "wildlife_extra.loc[108094,'CALL_SAVED_TIME'] = 'Unknown'\n",
    "\n",
    "wildlife_extra.loc[111382,'CALL_REGION'] = 'Unknown'\n",
    "wildlife_extra.loc[111382,'CA_ANIMAL_TYPE'] = 'Swan'\n",
    "wildlife_extra.loc[111382,'CALL_SAVED_TIME'] = 'Unknown'\n",
    "\n",
    "wildlife_extra.loc[115169,'CALL_REGION'] = 'Central'\n",
    "wildlife_extra.loc[115169,'CA_ANIMAL_TYPE'] = 'Seagull'\n",
    "wildlife_extra.loc[115169,'CALL_SAVED_TIME'] = 'Unknown'\n",
    "\n",
    "wildlife_extra.loc[122180,'CALL_REGION'] = 'Central'\n",
    "wildlife_extra.loc[122180,'CA_ANIMAL_TYPE'] = 'Hedgehog'\n",
    "wildlife_extra.loc[122180,'CALL_SAVED_TIME'] = 'Unknown'\n",
    "\n",
    "wildlife_extra.loc[127970,'CALL_REGION'] = 'Aberdeen'\n",
    "wildlife_extra.loc[127970,'CA_ANIMAL_TYPE'] = 'Wild Bird'\n",
    "wildlife_extra.loc[127970,'CALL_SAVED_TIME'] = 'Unknown'\n",
    "\n",
    "wildlife_extra.loc[132941,'CALL_REGION'] = 'Glasgow'\n",
    "wildlife_extra.loc[132941,'CA_ANIMAL_TYPE'] = 'Wild Bird'\n",
    "wildlife_extra.loc[132941,'CALL_SAVED_TIME'] = 'Unknown'\n",
    "\n",
    "wildlife_extra.loc[133290,'CALL_REGION'] = 'Edinburgh'\n",
    "wildlife_extra.loc[133290,'CA_ANIMAL_TYPE'] = 'Seagull'\n",
    "wildlife_extra.loc[133290,'CALL_SAVED_TIME'] = 'Unknown'\n",
    "\n",
    "wildlife_extra.loc[135010,'CALL_REGION'] = 'Glasgow'\n",
    "wildlife_extra.loc[135010,'CA_ANIMAL_TYPE'] = '*Other Wildlife'\n",
    "wildlife_extra.loc[135010,'CALL_SAVED_TIME'] = 'Unknown'\n",
    "\n",
    "wildlife_extra.loc[139708,'CALL_REGION'] = 'Aberdeen'\n",
    "wildlife_extra.loc[139708,'CA_ANIMAL_TYPE'] = 'Wild Bird'\n",
    "wildlife_extra.loc[139708,'CALL_SAVED_TIME'] = 'Unknown'\n",
    "\n",
    "wildlife_extra.loc[139717,'CALL_REGION'] = 'Central'\n",
    "wildlife_extra.loc[139717,'CA_ANIMAL_TYPE'] = 'Rat'\n",
    "wildlife_extra.loc[139717,'CALL_SAVED_TIME'] = 'Unknown'"
   ]
  },
  {
   "cell_type": "code",
   "execution_count": null,
   "id": "internal-basic",
   "metadata": {},
   "outputs": [],
   "source": [
    "wildlife_extra.loc[80820, 'CALL_DESCRIPTION']= wildlife_extra.loc[80820, 'CALL_DESCRIPTION'] + wildlife_extra.loc[80820, 'CALL_REGION'] + wildlife_extra.loc[80820, 'CALL_SAVED_TIME']"
   ]
  },
  {
   "cell_type": "code",
   "execution_count": null,
   "id": "extraordinary-batch",
   "metadata": {},
   "outputs": [],
   "source": [
    "wildlife_extra.loc[80820, 'CALL_DESCRIPTION']"
   ]
  },
  {
   "cell_type": "code",
   "execution_count": null,
   "id": "studied-walnut",
   "metadata": {},
   "outputs": [],
   "source": [
    "from datetime import datetime\n",
    "import xlrd\n",
    "xl_date = 2080842\n",
    "\n",
    "datetime_date = xlrd.xldate_as_tuple(xl_date, 0)\n",
    "print(datetime_date)\n",
    "\n",
    "#when converting excel date to python, they don't make sense so left as 'unknown'"
   ]
  },
  {
   "cell_type": "code",
   "execution_count": null,
   "id": "talented-milan",
   "metadata": {
    "scrolled": true
   },
   "outputs": [],
   "source": [
    "wildlife_extra"
   ]
  },
  {
   "cell_type": "markdown",
   "id": "theoretical-spencer",
   "metadata": {},
   "source": [
    "I am happy with the changes above and ready to change the main dataset"
   ]
  },
  {
   "cell_type": "markdown",
   "id": "aquatic-showcase",
   "metadata": {},
   "source": [
    "## Main data changes"
   ]
  },
  {
   "cell_type": "code",
   "execution_count": null,
   "id": "clear-testament",
   "metadata": {},
   "outputs": [],
   "source": [
    "wildlife_data.loc[59563,'CALL_REGION'] = 'Unknown'\n",
    "wildlife_data.loc[59563,'CA_ANIMAL_TYPE'] = wildlife_data.loc[59563,'Unnamed: 4']\n",
    "wildlife_data.loc[59563,'CALL_SAVED_TIME'] = 'Unknown'\n",
    "\n",
    "wildlife_data.loc[60430,'CALL_REGION'] = 'Unknown'\n",
    "wildlife_data.loc[60430,'CA_ANIMAL_TYPE'] = wildlife_data.loc[60430,'Unnamed: 4']\n",
    "wildlife_data.loc[60430,'CALL_SAVED_TIME'] = 'Unknown'\n",
    "\n",
    "wildlife_data.loc[70360,'CALL_REGION'] = wildlife_data.loc[70360,'CA_ANIMAL_TYPE']\n",
    "wildlife_data.loc[70360,'CA_ANIMAL_TYPE'] = 'Wild Bird'\n",
    "wildlife_data.loc[70360,'CALL_SAVED_TIME'] = 'Unknown'\n",
    "\n",
    "wildlife_data.loc[73945,'CALL_REGION'] = wildlife_data.loc[73945,'CA_ANIMAL_TYPE']\n",
    "wildlife_data.loc[73945,'CA_ANIMAL_TYPE'] = 'Unknown'\n",
    "wildlife_data.loc[73945,'CALL_SAVED_TIME'] = 'Unknown'\n",
    "\n",
    "wildlife_data.loc[80463,'CALL_REGION'] = wildlife_data.loc[80463,'Unnamed: 5']\n",
    "wildlife_data.loc[80463,'CA_ANIMAL_TYPE'] = wildlife_data.loc[80463,'Unnamed: 7']\n",
    "wildlife_data.loc[80463,'CALL_SAVED_TIME'] = 'Unknown'\n",
    "\n",
    "wildlife_data.loc[80820,'CALL_REGION'] = wildlife_data.loc[80820,'Unnamed: 5']\n",
    "wildlife_data.loc[80820,'CA_ANIMAL_TYPE'] = 'Wild Bird'\n",
    "wildlife_data.loc[80820,'CALL_SAVED_TIME'] = 'Unknown'\n",
    "\n",
    "wildlife_data.loc[82926,'CALL_REGION'] = 'Glasgow'\n",
    "wildlife_data.loc[82926,'CA_ANIMAL_TYPE'] = 'Swan'\n",
    "wildlife_data.loc[82926,'CALL_SAVED_TIME'] = 'Unknown'\n",
    "\n",
    "wildlife_data.loc[85871,'CALL_REGION'] = 'Inverness'\n",
    "wildlife_data.loc[85871,'CA_ANIMAL_TYPE'] = 'Wild Bird'\n",
    "wildlife_data.loc[85871,'CALL_SAVED_TIME'] = 'Unknown'\n",
    "\n",
    "wildlife_data.loc[87768,'CALL_REGION'] = 'Unknown'\n",
    "wildlife_data.loc[87768,'CA_ANIMAL_TYPE'] = 'Deer'\n",
    "wildlife_data.loc[87768,'CALL_SAVED_TIME'] = 'Unknown'\n",
    "\n",
    "wildlife_data.loc[87795,'CALL_REGION'] = 'Central'\n",
    "wildlife_data.loc[87795,'CA_ANIMAL_TYPE'] = 'Wild Bird'\n",
    "wildlife_data.loc[87795,'CALL_SAVED_TIME'] = 'Unknown'\n",
    "\n",
    "wildlife_data.loc[88364,'CALL_REGION'] = 'Unknown'\n",
    "wildlife_data.loc[88364,'CA_ANIMAL_TYPE'] = 'Fox'\n",
    "wildlife_data.loc[88364,'CALL_SAVED_TIME'] = 'Unknown'\n",
    "\n",
    "wildlife_data.loc[91823,'CALL_REGION'] = 'Unknown'\n",
    "wildlife_data.loc[91823,'CA_ANIMAL_TYPE'] = 'Owl'\n",
    "wildlife_data.loc[91823,'CALL_SAVED_TIME'] = 'Unknown'\n",
    "\n",
    "wildlife_data.loc[94412,'CALL_REGION'] = 'Central'\n",
    "wildlife_data.loc[94412,'CA_ANIMAL_TYPE'] = 'Deer'\n",
    "wildlife_data.loc[94412,'CALL_SAVED_TIME'] = 'Unknown'\n",
    "\n",
    "wildlife_data.loc[95142,'CALL_REGION'] = 'Edinburgh'\n",
    "wildlife_data.loc[95142,'CA_ANIMAL_TYPE'] = 'Unknown'\n",
    "wildlife_data.loc[95142,'CALL_SAVED_TIME'] = '2018-05-18 00:00:00'\n",
    "\n",
    "wildlife_data.loc[96115,'CALL_REGION'] = 'Unknown'\n",
    "wildlife_data.loc[96115,'CA_ANIMAL_TYPE'] = 'Wild Bird'\n",
    "wildlife_data.loc[96115,'CALL_SAVED_TIME'] = 'Unknown'\n",
    "\n",
    "wildlife_data.loc[98692,'CALL_REGION'] = 'Central'\n",
    "wildlife_data.loc[98692,'CA_ANIMAL_TYPE'] = 'Rabbit'\n",
    "wildlife_data.loc[98692,'CALL_SAVED_TIME'] = 'Unknown'\n",
    "\n",
    "wildlife_data.loc[101056,'CALL_REGION'] = 'Unknown'\n",
    "wildlife_data.loc[101056,'CA_ANIMAL_TYPE'] = 'Squirrel'\n",
    "wildlife_data.loc[101056,'CALL_SAVED_TIME'] = 'Unknown'\n",
    "\n",
    "wildlife_data.loc[101501,'CALL_REGION'] = 'Aberdeen'\n",
    "wildlife_data.loc[101501,'CA_ANIMAL_TYPE'] = 'Hedgehog'\n",
    "wildlife_data.loc[101501,'CALL_SAVED_TIME'] = 'Unknown'\n",
    "\n",
    "wildlife_data.loc[101802,'CALL_REGION'] = 'Unknown'\n",
    "wildlife_data.loc[101802,'CA_ANIMAL_TYPE'] = '*Other Wildlife'\n",
    "wildlife_data.loc[101802,'CALL_SAVED_TIME'] = 'Unknown'\n",
    "\n",
    "wildlife_data.loc[102499,'CALL_REGION'] = 'Aberdeen'\n",
    "wildlife_data.loc[102499,'CA_ANIMAL_TYPE'] = 'Wild Bird'\n",
    "wildlife_data.loc[102499,'CALL_SAVED_TIME'] = 'Unknown'\n",
    "\n",
    "wildlife_data.loc[105135,'CALL_REGION'] = 'Edinburgh'\n",
    "wildlife_data.loc[105135,'CA_ANIMAL_TYPE'] = 'Fledgling'\n",
    "wildlife_data.loc[105135,'CALL_SAVED_TIME'] = 'Unknown'\n",
    "\n",
    "wildlife_data.loc[108094,'CALL_REGION'] = 'Aberdeen'\n",
    "wildlife_data.loc[108094,'CA_ANIMAL_TYPE'] = 'Gull'\n",
    "wildlife_data.loc[108094,'CALL_SAVED_TIME'] = 'Unknown'\n",
    "\n",
    "wildlife_data.loc[111382,'CALL_REGION'] = 'Unknown'\n",
    "wildlife_data.loc[111382,'CA_ANIMAL_TYPE'] = 'Swan'\n",
    "wildlife_data.loc[111382,'CALL_SAVED_TIME'] = 'Unknown'\n",
    "\n",
    "wildlife_data.loc[115169,'CALL_REGION'] = 'Central'\n",
    "wildlife_data.loc[115169,'CA_ANIMAL_TYPE'] = 'Fledgling'\n",
    "wildlife_data.loc[115169,'CALL_SAVED_TIME'] = 'Unknown'\n",
    "\n",
    "wildlife_data.loc[122180,'CALL_REGION'] = 'Central'\n",
    "wildlife_data.loc[122180,'CA_ANIMAL_TYPE'] = 'Hedgehog'\n",
    "wildlife_data.loc[122180,'CALL_SAVED_TIME'] = 'Unknown'\n",
    "\n",
    "wildlife_data.loc[127970,'CALL_REGION'] = 'Aberdeen'\n",
    "wildlife_data.loc[127970,'CA_ANIMAL_TYPE'] = 'Fledgling'\n",
    "wildlife_data.loc[127970,'CALL_SAVED_TIME'] = 'Unknown'\n",
    "\n",
    "wildlife_data.loc[132941,'CALL_REGION'] = 'Glasgow'\n",
    "wildlife_data.loc[132941,'CA_ANIMAL_TYPE'] = 'Wild Bird'\n",
    "wildlife_data.loc[132941,'CALL_SAVED_TIME'] = 'Unknown'\n",
    "\n",
    "wildlife_data.loc[133290,'CALL_REGION'] = 'Edinburgh'\n",
    "wildlife_data.loc[133290,'CA_ANIMAL_TYPE'] = 'Gull'\n",
    "wildlife_data.loc[133290,'CALL_SAVED_TIME'] = 'Unknown'\n",
    "\n",
    "wildlife_data.loc[135010,'CALL_REGION'] = 'Glasgow'\n",
    "wildlife_data.loc[135010,'CA_ANIMAL_TYPE'] = '*Other Wildlife'\n",
    "wildlife_data.loc[135010,'CALL_SAVED_TIME'] = 'Unknown'\n",
    "\n",
    "wildlife_data.loc[139708,'CALL_REGION'] = 'Aberdeen'\n",
    "wildlife_data.loc[139708,'CA_ANIMAL_TYPE'] = 'Wild Bird'\n",
    "wildlife_data.loc[139708,'CALL_SAVED_TIME'] = 'Unknown'\n",
    "\n",
    "wildlife_data.loc[139717,'CALL_REGION'] = 'Central'\n",
    "wildlife_data.loc[139717,'CA_ANIMAL_TYPE'] = 'Rat'\n",
    "wildlife_data.loc[139717,'CALL_SAVED_TIME'] = 'Unknown'"
   ]
  },
  {
   "cell_type": "code",
   "execution_count": null,
   "id": "arranged-wildlife",
   "metadata": {
    "scrolled": true
   },
   "outputs": [],
   "source": [
    "wildlife_data[wildlife_data['Unnamed: 4'].notnull()]\n",
    "#all looks good, next step is to remove the unnessecary columns: unnamed ...etc."
   ]
  },
  {
   "cell_type": "code",
   "execution_count": null,
   "id": "strong-growth",
   "metadata": {},
   "outputs": [],
   "source": [
    "wildlife_data.drop(columns = ['Unnamed: 4', 'Unnamed: 5', 'Unnamed: 6', 'Unnamed: 7', 'Unnamed: 8'], inplace = True) "
   ]
  },
  {
   "cell_type": "code",
   "execution_count": null,
   "id": "educational-charter",
   "metadata": {},
   "outputs": [],
   "source": [
    "wildlife_data.head()"
   ]
  },
  {
   "cell_type": "markdown",
   "id": "juvenile-slovak",
   "metadata": {},
   "source": [
    "# Missing data"
   ]
  },
  {
   "cell_type": "code",
   "execution_count": null,
   "id": "recognized-accountability",
   "metadata": {},
   "outputs": [],
   "source": [
    "wildlife_data.isna().sum()\n",
    "#there are 631 call description in all data \n",
    "#for call description i cannot make up injuries so requires to drop it\n",
    "#client asks to concentrate on types of injuries which are in call_description column"
   ]
  },
  {
   "cell_type": "code",
   "execution_count": null,
   "id": "mobile-divorce",
   "metadata": {},
   "outputs": [],
   "source": [
    "filtered_df_data = wildlife_data[wildlife_data['CALL_DESCRIPTION'].isnull()]\n",
    "filtered_df_data\n",
    "#only date and animal type are noted so data is useless for further data analysis"
   ]
  },
  {
   "cell_type": "code",
   "execution_count": null,
   "id": "hairy-citation",
   "metadata": {},
   "outputs": [],
   "source": [
    "wildlife_data_clean = wildlife_data[wildlife_data['CALL_DESCRIPTION'].notna()]"
   ]
  },
  {
   "cell_type": "code",
   "execution_count": null,
   "id": "romance-settle",
   "metadata": {},
   "outputs": [],
   "source": [
    "wildlife_data_clean.isna().sum()"
   ]
  },
  {
   "cell_type": "code",
   "execution_count": null,
   "id": "metric-knight",
   "metadata": {
    "scrolled": true
   },
   "outputs": [],
   "source": [
    "#check for call_region\n",
    "filtered_df_data = wildlife_data_clean[wildlife_data_clean['CALL_REGION'].isnull()]\n",
    "filtered_df_data"
   ]
  },
  {
   "cell_type": "code",
   "execution_count": null,
   "id": "prepared-romania",
   "metadata": {},
   "outputs": [],
   "source": [
    "# Missing data will be changed to 'unknown' as it still has valuable information\n",
    "wildlife_data_clean.fillna({\n",
    "    'CALL_REGION': 'Unknown',\n",
    "    'CALL_SAVED_TIME': 'Unknown',\n",
    "    'CA_ANIMAL_TYPE': 'Unknown'}, inplace = True)"
   ]
  },
  {
   "cell_type": "code",
   "execution_count": null,
   "id": "unauthorized-parameter",
   "metadata": {
    "scrolled": true
   },
   "outputs": [],
   "source": [
    "wildlife_data_clean.isna().sum()"
   ]
  },
  {
   "cell_type": "code",
   "execution_count": null,
   "id": "descending-calgary",
   "metadata": {},
   "outputs": [],
   "source": [
    "wildlife_data_clean.shape"
   ]
  },
  {
   "cell_type": "markdown",
   "id": "optimum-antique",
   "metadata": {},
   "source": [
    "# Call description assigning"
   ]
  },
  {
   "cell_type": "markdown",
   "id": "consecutive-liverpool",
   "metadata": {},
   "source": [
    "## Requires hard coding!"
   ]
  },
  {
   "cell_type": "code",
   "execution_count": null,
   "id": "essential-cookbook",
   "metadata": {
    "scrolled": true
   },
   "outputs": [],
   "source": [
    "wildlife_data_clean.head()"
   ]
  },
  {
   "cell_type": "code",
   "execution_count": null,
   "id": "centered-reason",
   "metadata": {},
   "outputs": [],
   "source": [
    "wildlife_data_clean['CALL_DESCRIPTION'] = wildlife_data_clean['CALL_DESCRIPTION'].str.lower()\n",
    "# changed text to lower case "
   ]
  },
  {
   "cell_type": "code",
   "execution_count": null,
   "id": "terminal-program",
   "metadata": {},
   "outputs": [],
   "source": [
    "wildlife_data_clean.loc[15070,'CALL_DESCRIPTION']"
   ]
  },
  {
   "cell_type": "code",
   "execution_count": null,
   "id": "sustained-central",
   "metadata": {},
   "outputs": [],
   "source": [
    "key_words = ['broken', 'cut', 'wounded', 'lying', 'neck', 'pup', 'leg', 'flew', 'rescue', 'living', 'panting',\n",
    "               'wound', 'wing', 'duplicate', 'netting', 'laying', 'new', 'dead', 'paw', 'sleeping', 'sick',\n",
    "               'bleeding', 'inj', 'res', 'beach', 'fly', 'flightless', 'garden', 'loft', 'catted', 'deceased',\n",
    "            'fledgling', 'carpark', 'trapped', 'transport', 'RTA', 'stuck', 'pigeon', 'collect', 'sitting',\n",
    "            'swan', 'enquire', 'police', 'out', 'unwell', 'myxi', 'killed', 'advice', 'unable', 'shooting', 'remove',\n",
    "            'looking', 'poisoned', 'side', 'hit', 'seen', 'mobile', 'attic', 'afraid', 'pest', 'lame', 'died', 'chimney',\n",
    "            'fire', 'report', 'river', 'call', 'diarrhoea', 'removal', 'walls', 'nest', 'wrong', 'vet',\n",
    "            'wall', 'owl', 'seal', 'snh', 'hallway', 'feral', 'wobbly', 'rta', 'fox',\n",
    "            'license', 'street','stray', 'fawn', 'missing', 'transfer', 'falling','ARO','heron','underneath',\n",
    "            'adv', 'dup', 'playground','wondering','fledgling', 'area', 'uplift', 'grass',\n",
    "            'building', 'hatching','know', 'exhausted','run','flat', 'stove', 'tree','house','donation','advice',\n",
    "            'cygnet','shed','land','grate','vent','balcony','properly','rid','baiting','transfer',\n",
    "            'ceiling','adv','grounded','pheasant','magpie','window','pavement','trap','found','lone',\n",
    "            'assistance','query','roof','wild','request','control','robin','flue','chimeny','night','neglected',\n",
    "             'goose','stranded','neglect','neg','badger','gull','kitchen','startled',\n",
    "             'curled','stairwell','martin','aldi','handover','lum','close','how','mxy','walking','asking',\n",
    "             'daed', 'spotted','baby','table','water','puffin','alive','harbour','crossing','road', 'queries',\n",
    "             'bees','dying','rubbish','woodburner','not\\\\ moving','cupboard','floorboards','suffered','covered',\n",
    "             'bedroom','fishcross','cruelty','hand\\\\ over','field'\n",
    "             \n",
    "             ]\n",
    "key_pattern = r'(' + r'|'.join(key_words) + r')'\n",
    "\n",
    "key_pattern\n",
    "\n",
    "#'[Cc]leansing','[Nn]umber','[Cc]aller'"
   ]
  },
  {
   "cell_type": "code",
   "execution_count": null,
   "id": "opposed-process",
   "metadata": {
    "scrolled": true
   },
   "outputs": [],
   "source": [
    "wildlife_data_clean['verb_inj']= wildlife_data_clean['CALL_DESCRIPTION'].str.extract(key_pattern)"
   ]
  },
  {
   "cell_type": "code",
   "execution_count": null,
   "id": "sonic-cancer",
   "metadata": {
    "scrolled": false
   },
   "outputs": [],
   "source": [
    "wildlife_data_clean[wildlife_data_clean['verb_inj'].isnull()]\n",
    "#only left descriptions which are unclear to me what they mean"
   ]
  },
  {
   "cell_type": "code",
   "execution_count": null,
   "id": "behind-gasoline",
   "metadata": {},
   "outputs": [],
   "source": [
    "conditions = [\n",
    "    (wildlife_data_clean['verb_inj'] == 'inj'), (wildlife_data_clean['verb_inj'] == 'rta'),\n",
    "    (wildlife_data_clean['verb_inj'] == 'dead'), (wildlife_data_clean['verb_inj'] == 'deceased'),\n",
    "    (wildlife_data_clean['verb_inj'] == 'catted'), (wildlife_data_clean['verb_inj'] == 'poisoned'),\n",
    "    (wildlife_data_clean['verb_inj'] == 'rescue'), (wildlife_data_clean['verb_inj'] == 'new'),\n",
    "    (wildlife_data_clean['verb_inj'] == 'myxi'),(wildlife_data_clean['verb_inj'] == 'hallway'),\n",
    "    (wildlife_data_clean['verb_inj'] == 'shooting'), (wildlife_data_clean['verb_inj'] == 'sitting'),\n",
    "    (wildlife_data_clean['verb_inj'] == 'leg'), (wildlife_data_clean['verb_inj'] == 'nest'),\n",
    "    (wildlife_data_clean['verb_inj'] == 'unwell'), (wildlife_data_clean['verb_inj'] == 'sick'),\n",
    "    (wildlife_data_clean['verb_inj'] == 'seen'), (wildlife_data_clean['verb_inj'] == 'sleeping'),\n",
    "    (wildlife_data_clean['verb_inj'] == 'seal'), (wildlife_data_clean['verb_inj'] == 'duplicate'),\n",
    "    (wildlife_data_clean['verb_inj'] == 'swan'), (wildlife_data_clean['verb_inj'] == 'owl'),\n",
    "    (wildlife_data_clean['verb_inj'] == 'flightless'), (wildlife_data_clean['verb_inj'] == 'garden'),\n",
    "    (wildlife_data_clean['verb_inj'] == 'hit'), (wildlife_data_clean['verb_inj'] == 'fire'),\n",
    "    (wildlife_data_clean['verb_inj'] == 'flew'), (wildlife_data_clean['verb_inj'] == 'trapped'),\n",
    "    (wildlife_data_clean['verb_inj'] == 'call'), (wildlife_data_clean['verb_inj'] == 'collect'),\n",
    "    (wildlife_data_clean['verb_inj'] == 'out'), (wildlife_data_clean['verb_inj'] == 'advice'),\n",
    "    (wildlife_data_clean['verb_inj'] == 'pigeon'), (wildlife_data_clean['verb_inj'] == 'police'),\n",
    "    (wildlife_data_clean['verb_inj'] == 'report'), (wildlife_data_clean['verb_inj'] == 'mobile'),\n",
    "    (wildlife_data_clean['verb_inj'] == 'broken'), (wildlife_data_clean['verb_inj'] == 'res'),\n",
    "    (wildlife_data_clean['verb_inj'] == 'attic'), (wildlife_data_clean['verb_inj'] == 'living'),\n",
    "    (wildlife_data_clean['verb_inj'].isnull()), (wildlife_data_clean['verb_inj'] == 'beach'),\n",
    "    (wildlife_data_clean['verb_inj'] == 'wing'), (wildlife_data_clean['verb_inj'] == 'stuck'),\n",
    "    (wildlife_data_clean['verb_inj'] == 'side'), (wildlife_data_clean['verb_inj'] == 'looking'),\n",
    "    (wildlife_data_clean['verb_inj'] == 'lame'), (wildlife_data_clean['verb_inj'] == 'pest'),\n",
    "    (wildlife_data_clean['verb_inj'] == 'loft'), (wildlife_data_clean['verb_inj'] == 'fly'),\n",
    "    (wildlife_data_clean['verb_inj'] == 'chimney'), (wildlife_data_clean['verb_inj'] == 'lying'),\n",
    "    (wildlife_data_clean['verb_inj'] == 'diarrhoea'), (wildlife_data_clean['verb_inj'] == 'stray'),\n",
    "    (wildlife_data_clean['verb_inj'] == 'vet'), (wildlife_data_clean['verb_inj'] == 'fox'),\n",
    "    (wildlife_data_clean['verb_inj'] == 'aro'), (wildlife_data_clean['verb_inj'] == 'transfer'),\n",
    "    (wildlife_data_clean['verb_inj'] == 'wall'), (wildlife_data_clean['verb_inj'] == 'neck'),\n",
    "    (wildlife_data_clean['verb_inj'] == 'cut'), (wildlife_data_clean['verb_inj'] == 'remove'),\n",
    "    (wildlife_data_clean['verb_inj'] == 'street'), (wildlife_data_clean['verb_inj'] == 'removal'),\n",
    "    (wildlife_data_clean['verb_inj'] == 'killed'), (wildlife_data_clean['verb_inj'] == 'bleeding'),\n",
    "    (wildlife_data_clean['verb_inj'] == 'walls'), (wildlife_data_clean['verb_inj'] == 'unable'),\n",
    "    (wildlife_data_clean['verb_inj'] == 'laying'), (wildlife_data_clean['verb_inj'] == 'license'),\n",
    "    (wildlife_data_clean['verb_inj'] == 'wrong'), (wildlife_data_clean['verb_inj'] == 'river'),\n",
    "    (wildlife_data_clean['verb_inj'] == 'paw'), (wildlife_data_clean['verb_inj'] == 'pup'),\n",
    "    (wildlife_data_clean['verb_inj'] == 'fawn'), (wildlife_data_clean['verb_inj'] == 'wound'),\n",
    "    (wildlife_data_clean['verb_inj'] == 'missing'), (wildlife_data_clean['verb_inj'] == 'snh'),\n",
    "    (wildlife_data_clean['verb_inj'] == 'netting'), (wildlife_data_clean['verb_inj'] == 'feral'),\n",
    "    (wildlife_data_clean['verb_inj'] == 'falling'), (wildlife_data_clean['verb_inj'] == 'afraid'),\n",
    "    (wildlife_data_clean['verb_inj'] == 'wobbly'), (wildlife_data_clean['verb_inj'] == 'panting'),\n",
    "    (wildlife_data_clean['verb_inj'] == 'carpark'), (wildlife_data_clean['verb_inj'] == 'fledgling'),\n",
    "    (wildlife_data_clean['verb_inj'] == 'transport'),(wildlife_data_clean['verb_inj'] == 'feral'),\n",
    "    (wildlife_data_clean['verb_inj'] == 'ceiling'),(wildlife_data_clean['verb_inj'] == 'hallway'),\n",
    "    (wildlife_data_clean['verb_inj'] == 'flue'),(wildlife_data_clean['verb_inj'] == 'afraid'),\n",
    "    (wildlife_data_clean['verb_inj'] == 'stairwell'),(wildlife_data_clean['verb_inj'] == 'handover'),\n",
    "    (wildlife_data_clean['verb_inj'] == 'died'),(wildlife_data_clean['verb_inj'] == 'puffin'),\n",
    "    (wildlife_data_clean['verb_inj'] == 'startled'),(wildlife_data_clean['verb_inj'] == 'flat'),\n",
    "    (wildlife_data_clean['verb_inj'] == 'daed'),(wildlife_data_clean['verb_inj'] == 'underneath'),\n",
    "    (wildlife_data_clean['verb_inj'] == 'curled'),(wildlife_data_clean['verb_inj'] == 'spotted'),\n",
    "    (wildlife_data_clean['verb_inj'] == 'dying'),(wildlife_data_clean['verb_inj'] == 'baiting'),\n",
    "    (wildlife_data_clean['verb_inj'] == 'pavement'),(wildlife_data_clean['verb_inj'] == 'lum'),\n",
    "    (wildlife_data_clean['verb_inj'] == 'dup'),(wildlife_data_clean['verb_inj'] == 'badger'),\n",
    "    (wildlife_data_clean['verb_inj'] == 'stranded'),(wildlife_data_clean['verb_inj'] == 'found'),\n",
    "    (wildlife_data_clean['verb_inj'] == 'cygnet'),(wildlife_data_clean['verb_inj'] == 'alive'),\n",
    "    (wildlife_data_clean['verb_inj'] == 'land'),(wildlife_data_clean['verb_inj'] == 'goose'),\n",
    "    (wildlife_data_clean['verb_inj'] == 'adv'),(wildlife_data_clean['verb_inj'] == 'neg'),\n",
    "    (wildlife_data_clean['verb_inj'] == 'road'),(wildlife_data_clean['verb_inj'] == 'lone'),\n",
    "    (wildlife_data_clean['verb_inj'] == 'uplift'),(wildlife_data_clean['verb_inj'] == 'cruelty'),\n",
    "    (wildlife_data_clean['verb_inj'] == 'assistance'),(wildlife_data_clean['verb_inj'] == 'neglect'),\n",
    "    (wildlife_data_clean['verb_inj'] == 'field'),(wildlife_data_clean['verb_inj'] == 'wild'),\n",
    "    (wildlife_data_clean['verb_inj'] == 'gull'),(wildlife_data_clean['verb_inj'] == 'grass'),\n",
    "    (wildlife_data_clean['verb_inj'] == 'bedroom'),(wildlife_data_clean['verb_inj'] == 'heron'),\n",
    "    (wildlife_data_clean['verb_inj'] == 'request'),(wildlife_data_clean['verb_inj'] == 'walking'),\n",
    "    (wildlife_data_clean['verb_inj'] == 'exhausted'),(wildlife_data_clean['verb_inj'] == 'area'),\n",
    "    (wildlife_data_clean['verb_inj'] == 'night'),(wildlife_data_clean['verb_inj'] == 'grounded'),\n",
    "    (wildlife_data_clean['verb_inj'] == 'run'),(wildlife_data_clean['verb_inj'] == 'tree'),\n",
    "    (wildlife_data_clean['verb_inj'] == 'query'),(wildlife_data_clean['verb_inj'] == 'playground'),\n",
    "    (wildlife_data_clean['verb_inj'] == 'robin'),(wildlife_data_clean['verb_inj'] == 'house'),\n",
    "    (wildlife_data_clean['verb_inj'] == 'donation'),(wildlife_data_clean['verb_inj'] == 'building'),\n",
    "    (wildlife_data_clean['verb_inj'] == 'wondering'),(wildlife_data_clean['verb_inj'] == 'pheasant'),\n",
    "    (wildlife_data_clean['verb_inj'] == 'neglected'),(wildlife_data_clean['verb_inj'] == 'fishcross'),\n",
    "    (wildlife_data_clean['verb_inj'] == 'close'),(wildlife_data_clean['verb_inj'] == 'stove'),\n",
    "    (wildlife_data_clean['verb_inj'] == 'not moving'),(wildlife_data_clean['verb_inj'] == 'window'),\n",
    "    (wildlife_data_clean['verb_inj'] == 'trap'),(wildlife_data_clean['verb_inj'] == 'magpie'),\n",
    "    (wildlife_data_clean['verb_inj'] == 'balcony'),(wildlife_data_clean['verb_inj'] == 'how'),\n",
    "    (wildlife_data_clean['verb_inj'] == 'vent'),(wildlife_data_clean['verb_inj'] == 'crossing'),\n",
    "    (wildlife_data_clean['verb_inj'] == 'roof'), (wildlife_data_clean['verb_inj'] == 'mxy'),\n",
    "    (wildlife_data_clean['verb_inj'] == 'baby'),(wildlife_data_clean['verb_inj'] == 'shed'),\n",
    "    (wildlife_data_clean['verb_inj'] == 'asking'),(wildlife_data_clean['verb_inj'] == 'grate'),\n",
    "    (wildlife_data_clean['verb_inj'] == 'hand over'),(wildlife_data_clean['verb_inj'] == 'chimeny'),\n",
    "    (wildlife_data_clean['verb_inj'] == 'kitchen'),(wildlife_data_clean['verb_inj'] == 'covered'),\n",
    "    (wildlife_data_clean['verb_inj'] == 'martin'),(wildlife_data_clean['verb_inj'] == 'water'),\n",
    "    (wildlife_data_clean['verb_inj'] == 'table'), (wildlife_data_clean['verb_inj'] == 'harbour'),\n",
    "     (wildlife_data_clean['verb_inj'] == 'bees'), (wildlife_data_clean['verb_inj'] == 'know'),\n",
    "     (wildlife_data_clean['verb_inj'] == 'rid'),(wildlife_data_clean['verb_inj'] == 'rubbish'),\n",
    "    (wildlife_data_clean['verb_inj'] == 'hatching'),(wildlife_data_clean['verb_inj'] == 'cupboard'),\n",
    "    (wildlife_data_clean['verb_inj'] == 'floorboards'),(wildlife_data_clean['verb_inj'] == 'woodburner'),\n",
    "    (wildlife_data_clean['verb_inj'] == 'queries'), (wildlife_data_clean['verb_inj'] == 'suffered')\n",
    "\n",
    "\n",
    "    ]\n",
    "choices = ['injury', 'rescue','dead','dead','injury','cruel_behavior', 'rescue', 'unclear', 'disease', 'location_notice',\n",
    "           'cruel_behavior','location_notice','injury', 'location_notice', 'unwell', 'unwell','location_notice',\n",
    "           'location_notice','unclear', 'injury','unclear','unclear','injury','location_notice','injury','location_notice',\n",
    "          'injury', 'rescue', 'unclear','location_notice','unclear','advice','unclear','unclear','unclear','injury',\n",
    "          'injury','rescue','location_notice','injury','unclear','location_notice','injury','rescue','injury',\n",
    "          'location_notice','injury','unclear','location_notice','injury','location_notice','dead',\n",
    "          'unwell','location_notice','advice','unclear','rescue','location_notice','injury','injury','injury',\n",
    "          'unclear','location_notice','unclear','dead','injury','rescue','injury','injury','cruel_behavior',\n",
    "          'unclear','location_notice','injury','injury','location_notice','injury','location_notice','advice',\n",
    "          'rescue','location_notice','injury','unclear','unwell','unwell','location_notice', 'location_notice',\n",
    "          'location_notice','location_notice','location_notice','location_notice','rescue','location_notice',\n",
    "          'location_notice','location_notice','dead','unclear','rescue','location_notice','dead',\n",
    "          'location_notice','rescue','location_notice','dead','cruel_behavior','location_notice','rescue',\n",
    "          'injury','location_notice','rescue','location_notice','location_notice','rescue',\n",
    "          'location_notice','rescue','advice','cruel_behavior','rescue','location_notice','location_notice',\n",
    "          'cruel_behavior','advice','cruel_behavior','location_notice','location_notice','location_notice',\n",
    "           'location_notice','rescue','location_notice','unclear','location_notice','unwell','location_notice',\n",
    "           'location_notice','rescue','rescue','location_notice','advice','location_notice','location_notice',\n",
    "           'rescue','advice','rescue','advice','location_notice','cruel_behavior','location_notice',\n",
    "           'location_notice','rescue','dead','location_notice','rescue','injury','location_notice','advice',\n",
    "           'rescue','location_notice','rescue','disease','rescue','location_notice','advice','rescue',\n",
    "           'location_notice','rescue','rescue','unwell','location_notice','location_notice','rescue',\n",
    "           'location_notice','unclear','advice','rescue','cruel_behavior','rescue','rescue','rescue','rescue',\n",
    "           'advice','disease'\n",
    "]\n",
    "\n",
    "wildlife_data_clean['reason_for_call'] = np.select(conditions, choices)"
   ]
  },
  {
   "cell_type": "code",
   "execution_count": null,
   "id": "continued-paraguay",
   "metadata": {},
   "outputs": [],
   "source": [
    "wildlife_data_clean['verb_inj'].unique()"
   ]
  },
  {
   "cell_type": "code",
   "execution_count": null,
   "id": "middle-dealing",
   "metadata": {
    "scrolled": true
   },
   "outputs": [],
   "source": [
    "wildlife_data_clean[wildlife_data_clean['reason_for_call'] == '0']\n",
    "#check that non assigned left"
   ]
  },
  {
   "cell_type": "code",
   "execution_count": null,
   "id": "filled-module",
   "metadata": {
    "scrolled": false
   },
   "outputs": [],
   "source": [
    "wildlife_data_clean['reason_for_call'].unique()\n",
    "#check that there are no other strange categories due to misspelling "
   ]
  },
  {
   "cell_type": "code",
   "execution_count": null,
   "id": "plastic-tattoo",
   "metadata": {},
   "outputs": [],
   "source": [
    "#split calls into two categories - advice and report\n",
    "wildlife_data_clean.loc[:,'type_of_calls']= np.where(wildlife_data_clean['reason_for_call'] == 'advice', 'advice_calls','report_calls')"
   ]
  },
  {
   "cell_type": "code",
   "execution_count": null,
   "id": "modern-shadow",
   "metadata": {},
   "outputs": [],
   "source": [
    "wildlife_data_clean.head()"
   ]
  },
  {
   "cell_type": "markdown",
   "id": "structural-particle",
   "metadata": {},
   "source": [
    "# Fixing other columns"
   ]
  },
  {
   "cell_type": "markdown",
   "id": "conventional-physiology",
   "metadata": {},
   "source": [
    "## Animal type"
   ]
  },
  {
   "cell_type": "code",
   "execution_count": null,
   "id": "growing-tournament",
   "metadata": {
    "scrolled": true
   },
   "outputs": [],
   "source": [
    "#requires cleaning\n",
    "wildlife_data_clean['CA_ANIMAL_TYPE'].unique()"
   ]
  },
  {
   "cell_type": "code",
   "execution_count": null,
   "id": "powered-animation",
   "metadata": {},
   "outputs": [],
   "source": [
    "wildlife_data_clean[wildlife_data_clean['CA_ANIMAL_TYPE']=='53:00.8']\n",
    "#looks like data is shifted and requires fixes"
   ]
  },
  {
   "cell_type": "code",
   "execution_count": null,
   "id": "dental-dakota",
   "metadata": {},
   "outputs": [],
   "source": [
    "wildlife_data_clean.loc[1358,'CALL_REGION'] = 'Central'\n",
    "wildlife_data_clean.loc[1358,'CA_ANIMAL_TYPE'] = 'Wild Bird'\n",
    "wildlife_data_clean.loc[1358,'CALL_SAVED_TIME'] = 'Unknown'\n",
    "\n",
    "wildlife_data_clean.loc[4163,'CALL_REGION'] = 'Glasgow'\n",
    "wildlife_data_clean.loc[4163,'CA_ANIMAL_TYPE'] = 'Wild Bird'\n",
    "wildlife_data_clean.loc[4163,'CALL_SAVED_TIME'] = 'Unknown'\n",
    "\n",
    "wildlife_data_clean.loc[5878,'CALL_REGION'] = 'Central'\n",
    "wildlife_data_clean.loc[5878,'CA_ANIMAL_TYPE'] = 'Wild Bird'\n",
    "wildlife_data_clean.loc[5878,'CALL_SAVED_TIME'] = 'Unknown'\n",
    "\n",
    "wildlife_data_clean.loc[65134,'CALL_REGION'] = 'Unknown'\n",
    "wildlife_data_clean.loc[65134,'CA_ANIMAL_TYPE'] = 'Hedgehog'\n",
    "wildlife_data_clean.loc[65134,'CALL_SAVED_TIME'] = 'Unknown'\n",
    "\n",
    "wildlife_data_clean.loc[71459,'CALL_REGION'] = 'Edinburgh'\n",
    "wildlife_data_clean.loc[71459,'CA_ANIMAL_TYPE'] = 'Hedgehog'\n",
    "wildlife_data_clean.loc[71459,'CALL_SAVED_TIME'] = 'Unknown'\n",
    "\n",
    "wildlife_data_clean.loc[72388,'CALL_REGION'] = 'Aberdeen'\n",
    "wildlife_data_clean.loc[72388,'CA_ANIMAL_TYPE'] = 'Hedgehog'\n",
    "wildlife_data_clean.loc[72388,'CALL_SAVED_TIME'] = 'Unknown'\n",
    "\n",
    "wildlife_data_clean.loc[80218,'CALL_REGION'] = 'Edinburgh'\n",
    "wildlife_data_clean.loc[80218,'CA_ANIMAL_TYPE'] = 'Fox'\n",
    "wildlife_data_clean.loc[80218,'CALL_SAVED_TIME'] = 'Unknown'\n",
    "\n",
    "wildlife_data_clean.loc[80765,'CALL_REGION'] = 'Central'\n",
    "wildlife_data_clean.loc[80765,'CA_ANIMAL_TYPE'] = 'Swan'\n",
    "wildlife_data_clean.loc[80765,'CALL_SAVED_TIME'] = 'Unknown'\n",
    "\n",
    "wildlife_data_clean.loc[81865,'CALL_REGION'] = 'Central'\n",
    "wildlife_data_clean.loc[81865,'CA_ANIMAL_TYPE'] = 'Fledgling'\n",
    "wildlife_data_clean.loc[81865,'CALL_SAVED_TIME'] = 'Unknown'\n",
    "\n",
    "wildlife_data_clean.loc[82612,'CALL_REGION'] = 'Unknown'\n",
    "wildlife_data_clean.loc[82612,'CA_ANIMAL_TYPE'] = 'Swan'\n",
    "wildlife_data_clean.loc[82612,'CALL_SAVED_TIME'] = 'Unknown'\n",
    "\n",
    "wildlife_data_clean.loc[83043,'CALL_REGION'] = 'Aberdeen'\n",
    "wildlife_data_clean.loc[83043,'CA_ANIMAL_TYPE'] = 'Seal'\n",
    "wildlife_data_clean.loc[83043,'CALL_SAVED_TIME'] = 'Unknown'\n",
    "\n",
    "wildlife_data_clean.loc[83970,'CALL_REGION'] = 'Unknown'\n",
    "wildlife_data_clean.loc[83970,'CA_ANIMAL_TYPE'] = 'Gull'\n",
    "wildlife_data_clean.loc[83970,'CALL_SAVED_TIME'] = 'Unknown'\n",
    "\n",
    "wildlife_data_clean.loc[88721,'CALL_REGION'] = 'Central'\n",
    "wildlife_data_clean.loc[88721,'CA_ANIMAL_TYPE'] = 'Duck'\n",
    "wildlife_data_clean.loc[88721,'CALL_SAVED_TIME'] = 'Unknown'\n",
    "\n",
    "wildlife_data_clean.loc[89628,'CALL_REGION'] = 'Edinburgh'\n",
    "wildlife_data_clean.loc[89628,'CA_ANIMAL_TYPE'] = 'Nestling'\n",
    "wildlife_data_clean.loc[89628,'CALL_SAVED_TIME'] = 'Unknown'\n",
    "\n",
    "wildlife_data_clean.loc[95060,'CALL_REGION'] = 'Glasgow'\n",
    "wildlife_data_clean.loc[95060,'CA_ANIMAL_TYPE'] = 'Wild Bird'\n",
    "wildlife_data_clean.loc[95060,'CALL_SAVED_TIME'] = 'Unknown'\n",
    "\n",
    "wildlife_data_clean.loc[97049,'CALL_REGION'] = 'Glasgow'\n",
    "wildlife_data_clean.loc[97049,'CA_ANIMAL_TYPE'] = 'Deer'\n",
    "wildlife_data_clean.loc[97049,'CALL_SAVED_TIME'] = 'Unknown'\n",
    "\n",
    "wildlife_data_clean.loc[97631,'CALL_REGION'] = 'Glasgow'\n",
    "wildlife_data_clean.loc[97631,'CA_ANIMAL_TYPE'] = 'Unknown'\n",
    "wildlife_data_clean.loc[97631,'CALL_SAVED_TIME'] = 'Unknown'\n",
    "\n",
    "wildlife_data_clean.loc[98596,'CALL_REGION'] = 'Aberdeen'\n",
    "wildlife_data_clean.loc[98596,'CA_ANIMAL_TYPE'] = 'Fledgling'\n",
    "wildlife_data_clean.loc[98596,'CALL_SAVED_TIME'] = 'Unknown'\n",
    "\n",
    "wildlife_data_clean.loc[100283,'CALL_REGION'] = 'Inverness'\n",
    "wildlife_data_clean.loc[100283,'CA_ANIMAL_TYPE'] = 'Bat'\n",
    "wildlife_data_clean.loc[100283,'CALL_SAVED_TIME'] = 'Unknown'\n",
    "\n",
    "wildlife_data_clean.loc[101717,'CALL_REGION'] = 'Unknown'\n",
    "wildlife_data_clean.loc[101717,'CA_ANIMAL_TYPE'] = 'Fledgling'\n",
    "wildlife_data_clean.loc[101717,'CALL_SAVED_TIME'] = 'Unknown'\n",
    "\n",
    "wildlife_data_clean.loc[103067,'CALL_REGION'] = 'Aberdeen'\n",
    "wildlife_data_clean.loc[103067,'CA_ANIMAL_TYPE'] = 'Fledgling'\n",
    "wildlife_data_clean.loc[103067,'CALL_SAVED_TIME'] = 'Unknown'\n",
    "\n",
    "wildlife_data_clean.loc[105287,'CALL_REGION'] = 'Glasgow'\n",
    "wildlife_data_clean.loc[105287,'CA_ANIMAL_TYPE'] = 'Wild Bird'\n",
    "wildlife_data_clean.loc[105287,'CALL_SAVED_TIME'] = 'Unknown'\n",
    "\n",
    "wildlife_data_clean.loc[105580,'CALL_REGION'] = 'Aberdeen'\n",
    "wildlife_data_clean.loc[105580,'CA_ANIMAL_TYPE'] = 'Fledgling'\n",
    "wildlife_data_clean.loc[105580,'CALL_SAVED_TIME'] = 'Unknown'\n",
    "\n",
    "wildlife_data_clean.loc[105626,'CALL_REGION'] = 'Glasgow'\n",
    "wildlife_data_clean.loc[105626,'CA_ANIMAL_TYPE'] = 'Swan'\n",
    "wildlife_data_clean.loc[105626,'CALL_SAVED_TIME'] = 'Unknown'\n",
    "\n",
    "wildlife_data_clean.loc[106953,'CALL_REGION'] = 'Central'\n",
    "wildlife_data_clean.loc[106953,'CA_ANIMAL_TYPE'] = 'Fledgling'\n",
    "wildlife_data_clean.loc[106953,'CALL_SAVED_TIME'] = 'Unknown'\n",
    "\n",
    "wildlife_data_clean.loc[107294,'CALL_REGION'] = 'Edinburgh'\n",
    "wildlife_data_clean.loc[107294,'CA_ANIMAL_TYPE'] = 'Nestling'\n",
    "wildlife_data_clean.loc[107294,'CALL_SAVED_TIME'] = 'Unknown'\n",
    "\n",
    "wildlife_data_clean.loc[107849,'CALL_REGION'] = 'Glasgow'\n",
    "wildlife_data_clean.loc[107849,'CA_ANIMAL_TYPE'] = 'Wild Bird'\n",
    "wildlife_data_clean.loc[107849,'CALL_SAVED_TIME'] = 'Unknown'\n",
    "\n",
    "wildlife_data_clean.loc[108976,'CALL_REGION'] = 'Glasgow'\n",
    "wildlife_data_clean.loc[108976,'CA_ANIMAL_TYPE'] = 'Gull'\n",
    "wildlife_data_clean.loc[108976,'CALL_SAVED_TIME'] = 'Unknown'\n",
    "\n",
    "wildlife_data_clean.loc[116605,'CALL_REGION'] = 'Unknown'\n",
    "wildlife_data_clean.loc[116605,'CA_ANIMAL_TYPE'] = 'Unknown'\n",
    "wildlife_data_clean.loc[116605,'CALL_SAVED_TIME'] = 'Unknown'\n",
    "\n",
    "wildlife_data_clean.loc[117133,'CALL_REGION'] = 'Glasgow'\n",
    "wildlife_data_clean.loc[117133,'CA_ANIMAL_TYPE'] = 'Wild Bird'\n",
    "wildlife_data_clean.loc[117133,'CALL_SAVED_TIME'] = 'Unknown'\n",
    "\n",
    "wildlife_data_clean.loc[122932,'CALL_REGION'] = 'Glasgow'\n",
    "wildlife_data_clean.loc[122932,'CA_ANIMAL_TYPE'] = 'Wild Bird'\n",
    "wildlife_data_clean.loc[122932,'CALL_SAVED_TIME'] = 'Unknown'\n",
    "\n",
    "wildlife_data_clean.loc[123230,'CALL_REGION'] = 'Glasgow'\n",
    "wildlife_data_clean.loc[123230,'CA_ANIMAL_TYPE'] = 'Fledgling'\n",
    "wildlife_data_clean.loc[123230,'CALL_SAVED_TIME'] = 'Unknown'\n",
    "\n",
    "wildlife_data_clean.loc[125976,'CALL_REGION'] = 'Central'\n",
    "wildlife_data_clean.loc[125976,'CA_ANIMAL_TYPE'] = 'Wild Bird'\n",
    "wildlife_data_clean.loc[125976,'CALL_SAVED_TIME'] = 'Unknown'\n",
    "\n",
    "wildlife_data_clean.loc[126070,'CALL_REGION'] = 'Inverness'\n",
    "wildlife_data_clean.loc[126070,'CA_ANIMAL_TYPE'] = 'Fledgling'\n",
    "wildlife_data_clean.loc[126070,'CALL_SAVED_TIME'] = 'Unknown'\n",
    "\n",
    "wildlife_data_clean.loc[126202,'CALL_REGION'] = 'Central'\n",
    "wildlife_data_clean.loc[126202,'CA_ANIMAL_TYPE'] = 'Unknown'\n",
    "wildlife_data_clean.loc[126202,'CALL_SAVED_TIME'] = 'Unknown'\n",
    "\n",
    "wildlife_data_clean.loc[131319,'CALL_REGION'] = 'Glasgow'\n",
    "wildlife_data_clean.loc[131319,'CA_ANIMAL_TYPE'] = 'Squirrel'\n",
    "wildlife_data_clean.loc[131319,'CALL_SAVED_TIME'] = 'Unknown'\n",
    "\n",
    "wildlife_data_clean.loc[136952,'CALL_REGION'] = 'Aberdeen'\n",
    "wildlife_data_clean.loc[136952,'CA_ANIMAL_TYPE'] = 'Unknown'\n",
    "wildlife_data_clean.loc[136952,'CALL_SAVED_TIME'] = 'Unknown'\n",
    "\n",
    "wildlife_data_clean.loc[142952,'CALL_REGION'] = 'Unknown'\n",
    "wildlife_data_clean.loc[142952,'CA_ANIMAL_TYPE'] = 'Unknown'\n",
    "wildlife_data_clean.loc[142952,'CALL_SAVED_TIME'] = 'Unknown'\n",
    "\n",
    "wildlife_data_clean.loc[143992,'CALL_REGION'] = 'Aberdeen'\n",
    "wildlife_data_clean.loc[143992,'CA_ANIMAL_TYPE'] = 'Wild Bird'\n",
    "wildlife_data_clean.loc[143992,'CALL_SAVED_TIME'] = 'Unknown'\n",
    "\n",
    "wildlife_data_clean.loc[145845,'CALL_REGION'] = 'Unknown'\n",
    "wildlife_data_clean.loc[145845,'CA_ANIMAL_TYPE'] = 'Gull'\n",
    "wildlife_data_clean.loc[145845,'CALL_SAVED_TIME'] = 'Unknown'"
   ]
  },
  {
   "cell_type": "code",
   "execution_count": null,
   "id": "continuous-sending",
   "metadata": {
    "scrolled": false
   },
   "outputs": [],
   "source": [
    "wildlife_data_clean.loc[wildlife_data_clean['CA_ANIMAL_TYPE'].isin(['Deer', 'Wild Bird', 'Gull', 'Fox','Swan', 'Badger', 'Seal',\n",
    "       'Hedgehog', 'Duck', 'Owl', 'Goose', 'Fledgling', 'Squirrel',\n",
    "       'Wild Mouse', 'Wild Rabbit', '*Other Wildlife', 'Stoat', 'Weasel',\n",
    "       'Snake', 'Bat', 'Otter', 'Nestling', 'Spider', 'Frog',\n",
    "       'Turtle',  'Fish', 'Rabbit','Unknown', 'Rat'])]\n"
   ]
  },
  {
   "cell_type": "code",
   "execution_count": null,
   "id": "right-terrorism",
   "metadata": {},
   "outputs": [],
   "source": [
    "wildlife_data_clean['CA_ANIMAL_TYPE'].unique()\n",
    "#now it is clean"
   ]
  },
  {
   "cell_type": "markdown",
   "id": "nuclear-check",
   "metadata": {},
   "source": [
    "## Call region"
   ]
  },
  {
   "cell_type": "code",
   "execution_count": null,
   "id": "american-filename",
   "metadata": {},
   "outputs": [],
   "source": [
    "wildlife_data_clean['CALL_REGION'].unique()\n",
    "#fledgling in region?"
   ]
  },
  {
   "cell_type": "code",
   "execution_count": null,
   "id": "secondary-blake",
   "metadata": {},
   "outputs": [],
   "source": [
    "wildlife_data_clean[wildlife_data_clean['CALL_REGION']=='Fledgling']"
   ]
  },
  {
   "cell_type": "code",
   "execution_count": null,
   "id": "forbidden-passport",
   "metadata": {},
   "outputs": [],
   "source": [
    "wildlife_data_clean.loc[80820,'CALL_REGION'] = 'Unknown'\n",
    "wildlife_data_clean.loc[80820,'CA_ANIMAL_TYPE'] = 'Wild Bird'\n",
    "wildlife_data_clean.loc[80820,'CALL_SAVED_TIME'] = 'Unknown'"
   ]
  },
  {
   "cell_type": "code",
   "execution_count": null,
   "id": "afraid-chapel",
   "metadata": {},
   "outputs": [],
   "source": [
    "wildlife_data_clean.loc[80820,:]"
   ]
  },
  {
   "cell_type": "code",
   "execution_count": null,
   "id": "hungry-horse",
   "metadata": {},
   "outputs": [],
   "source": [
    "wildlife_data_clean['CALL_REGION'].unique()\n",
    "#looks better now"
   ]
  },
  {
   "cell_type": "markdown",
   "id": "above-giant",
   "metadata": {},
   "source": [
    "## Call time"
   ]
  },
  {
   "cell_type": "code",
   "execution_count": null,
   "id": "seasonal-surveillance",
   "metadata": {},
   "outputs": [],
   "source": [
    "wildlife_data_clean['CALL_SAVED_TIME'].unique()"
   ]
  },
  {
   "cell_type": "code",
   "execution_count": null,
   "id": "comprehensive-sugar",
   "metadata": {},
   "outputs": [],
   "source": [
    "wildlife_data_clean[wildlife_data_clean['CALL_SAVED_TIME'] == \"2018-05-18 00:00:00\"]"
   ]
  },
  {
   "cell_type": "code",
   "execution_count": null,
   "id": "african-rainbow",
   "metadata": {},
   "outputs": [],
   "source": [
    "wildlife_data_clean.loc[:,'CALL_SAVED_TIME'] = pd.to_datetime(wildlife_data_clean['CALL_SAVED_TIME'], errors = 'coerce')"
   ]
  },
  {
   "cell_type": "code",
   "execution_count": null,
   "id": "legislative-commissioner",
   "metadata": {},
   "outputs": [],
   "source": [
    "wildlife_data_clean.loc[:,'CALL_SAVED_TIME']"
   ]
  },
  {
   "cell_type": "code",
   "execution_count": null,
   "id": "missing-yorkshire",
   "metadata": {},
   "outputs": [],
   "source": [
    "wildlife_data_clean_final = wildlife_data_clean.drop(columns = ['CALL_DESCRIPTION', 'verb_inj']).copy()"
   ]
  },
  {
   "cell_type": "code",
   "execution_count": null,
   "id": "national-chaos",
   "metadata": {},
   "outputs": [],
   "source": [
    "wildlife_data_clean_final\n",
    "#data is ready for analysis"
   ]
  },
  {
   "cell_type": "markdown",
   "id": "willing-taste",
   "metadata": {},
   "source": [
    "# Data asserting"
   ]
  },
  {
   "cell_type": "code",
   "execution_count": null,
   "id": "preceding-commitment",
   "metadata": {
    "scrolled": true
   },
   "outputs": [],
   "source": [
    "assert wildlife_data_clean_final.loc[:,wildlife_data_clean_final.columns !='CALL_SAVED_TIME'].isnull().values.any()==False, \"Missing values found\""
   ]
  },
  {
   "cell_type": "code",
   "execution_count": null,
   "id": "abroad-september",
   "metadata": {},
   "outputs": [],
   "source": [
    "wildlife_data_clean_final.isnull().sum()\n",
    "#Missing data only in time column as expected"
   ]
  },
  {
   "cell_type": "markdown",
   "id": "naked-module",
   "metadata": {},
   "source": [
    "# Writing data"
   ]
  },
  {
   "cell_type": "code",
   "execution_count": null,
   "id": "accurate-application",
   "metadata": {},
   "outputs": [],
   "source": [
    "wildlife_data_clean_final.to_csv('../clean_data/wildlife_clean.csv')"
   ]
  },
  {
   "cell_type": "code",
   "execution_count": null,
   "id": "bridal-majority",
   "metadata": {},
   "outputs": [],
   "source": []
  }
 ],
 "metadata": {
  "kernelspec": {
   "display_name": "Python 3",
   "language": "python",
   "name": "python3"
  },
  "language_info": {
   "codemirror_mode": {
    "name": "ipython",
    "version": 3
   },
   "file_extension": ".py",
   "mimetype": "text/x-python",
   "name": "python",
   "nbconvert_exporter": "python",
   "pygments_lexer": "ipython3",
   "version": "3.8.5"
  },
  "varInspector": {
   "cols": {
    "lenName": 16,
    "lenType": 16,
    "lenVar": 40
   },
   "kernels_config": {
    "python": {
     "delete_cmd_postfix": "",
     "delete_cmd_prefix": "del ",
     "library": "var_list.py",
     "varRefreshCmd": "print(var_dic_list())"
    },
    "r": {
     "delete_cmd_postfix": ") ",
     "delete_cmd_prefix": "rm(",
     "library": "var_list.r",
     "varRefreshCmd": "cat(var_dic_list()) "
    }
   },
   "types_to_exclude": [
    "module",
    "function",
    "builtin_function_or_method",
    "instance",
    "_Feature"
   ],
   "window_display": false
  }
 },
 "nbformat": 4,
 "nbformat_minor": 5
}
