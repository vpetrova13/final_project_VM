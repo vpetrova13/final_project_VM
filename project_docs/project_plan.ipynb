{
 "cells": [
  {
   "cell_type": "markdown",
   "id": "restricted-headquarters",
   "metadata": {},
   "source": [
    "**Project plan for the final project**"
   ]
  },
  {
   "cell_type": "code",
   "execution_count": 1,
   "id": "regional-stopping",
   "metadata": {},
   "outputs": [
    {
     "data": {
      "text/html": [
       "<style>\n",
       "table {float: left}\n",
       "</style>\n"
      ],
      "text/plain": [
       "<IPython.core.display.HTML object>"
      ]
     },
     "metadata": {},
     "output_type": "display_data"
    }
   ],
   "source": [
    "%%html\n",
    "<style>\n",
    "table {float: left}\n",
    "</style>"
   ]
  },
  {
   "cell_type": "markdown",
   "id": "fuzzy-contemporary",
   "metadata": {},
   "source": [
    "**Client's info:**\n",
    "\n",
    "Wildlife Injuries\n",
    "\n",
    " \n",
    "\n",
    "We would like to understand\n",
    "\n",
    " \n",
    "\n",
    "·         If there are a trend in injuries By Region, and is there different peaks of times of year per region.\n",
    "\n",
    "·         Analysis on the types of animals that are injured, this also by Region – is there a species that is more liable to injury in certain regions?\n",
    "\n",
    "·         Species by time of year, which are the animals that are prone to injuries at certain times of the year.\n",
    "\n",
    "·         Total call volume for Advice calls how has this trended over the last two years\n",
    "\n",
    "·         Business Intelligence – using the insights you have found, can you predict how this might look for 2021 – including predicted call volumes, can you see this increasing/decreasing/staying on trend\n",
    "\n",
    " \n",
    "\n",
    "Categorised\n",
    "\n",
    " \n",
    "\n",
    "·         The description field to be cleansed and categorised into types of call/injuries.\n",
    "\n",
    " \n",
    "\n",
    " \n",
    "\n",
    "Anonymised\n",
    "\n",
    " \n",
    "\n",
    "·         Description field not to be used for presentation purposes or sharing on GitHub as this is considered sensitive data.  \n",
    "\n",
    " \n",
    "\n",
    " \n",
    "\n",
    "Synthesised/Randomised\n",
    "\n",
    " \n",
    "\n",
    "·         The categories and the data to be mixed so they can’t be matched to location/call.\n",
    "\n",
    " \n",
    "\n",
    "·         Example: Person might share on Facebook they have called SSPCA – in the data they might be able to identify themselves or others may be able to."
   ]
  },
  {
   "cell_type": "markdown",
   "id": "southern-cement",
   "metadata": {},
   "source": [
    "**The plan**\n",
    "\n",
    "| Day| What to do | How it was |\n",
    "| :---| :--- | :---|\n",
    "| Monday | preparation and start data cleaning | started data cleaning |\n",
    "| Tuesday | data cleaning | data cleaning |\n",
    "| Wednesday | start answer the questions or analyse the data | data cleaning and started data analysis |\n",
    "| Thursday | answer the questions and start BI | data analysis and answering questions |\n",
    "| Friday | BI |  continued analysis and started BI |\n",
    "| weekends | finalise the project | BI such as Prophet |\n",
    "| Monday | finalise it | finalise everything and additions analysis |\n",
    "| Tuesday | start presentation | started presentation |\n",
    "| Wednesday | practice presentation | continued and practiced presentation |\n",
    "| Thursday | project presentation | presentation |"
   ]
  },
  {
   "cell_type": "code",
   "execution_count": null,
   "id": "compliant-benchmark",
   "metadata": {},
   "outputs": [],
   "source": []
  }
 ],
 "metadata": {
  "kernelspec": {
   "display_name": "Python 3",
   "language": "python",
   "name": "python3"
  },
  "language_info": {
   "codemirror_mode": {
    "name": "ipython",
    "version": 3
   },
   "file_extension": ".py",
   "mimetype": "text/x-python",
   "name": "python",
   "nbconvert_exporter": "python",
   "pygments_lexer": "ipython3",
   "version": "3.8.5"
  },
  "varInspector": {
   "cols": {
    "lenName": 16,
    "lenType": 16,
    "lenVar": 40
   },
   "kernels_config": {
    "python": {
     "delete_cmd_postfix": "",
     "delete_cmd_prefix": "del ",
     "library": "var_list.py",
     "varRefreshCmd": "print(var_dic_list())"
    },
    "r": {
     "delete_cmd_postfix": ") ",
     "delete_cmd_prefix": "rm(",
     "library": "var_list.r",
     "varRefreshCmd": "cat(var_dic_list()) "
    }
   },
   "types_to_exclude": [
    "module",
    "function",
    "builtin_function_or_method",
    "instance",
    "_Feature"
   ],
   "window_display": false
  }
 },
 "nbformat": 4,
 "nbformat_minor": 5
}
